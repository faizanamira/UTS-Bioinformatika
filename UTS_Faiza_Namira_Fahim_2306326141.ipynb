{
  "cells": [
    {
      "cell_type": "markdown",
      "metadata": {
        "id": "view-in-github",
        "colab_type": "text"
      },
      "source": [
        "<a href=\"https://colab.research.google.com/github/faizanamira/UTS-Bioinformatika/blob/main/UTS_Faiza_Namira_Fahim_2306326141.ipynb\" target=\"_parent\"><img src=\"https://colab.research.google.com/assets/colab-badge.svg\" alt=\"Open In Colab\"/></a>"
      ]
    },
    {
      "cell_type": "markdown",
      "id": "d4c01227-6c4b-42cf-b798-3dd06ffdf9ee",
      "metadata": {
        "id": "d4c01227-6c4b-42cf-b798-3dd06ffdf9ee"
      },
      "source": [
        "UTS BIOINFORMATIKA"
      ]
    },
    {
      "cell_type": "code",
      "execution_count": null,
      "id": "8809d7b0-19b6-4ab3-9890-c4f79f714300",
      "metadata": {
        "tags": [],
        "id": "8809d7b0-19b6-4ab3-9890-c4f79f714300"
      },
      "outputs": [],
      "source": [
        "from Bio.Seq import Seq"
      ]
    },
    {
      "cell_type": "code",
      "execution_count": null,
      "id": "76cd1d00-fc2a-4565-ade8-b7268cdff556",
      "metadata": {
        "tags": [],
        "id": "76cd1d00-fc2a-4565-ade8-b7268cdff556",
        "outputId": "556f21df-6bf6-4db5-f6f2-a86799ffe028"
      },
      "outputs": [
        {
          "name": "stdout",
          "output_type": "stream",
          "text": [
            "AGTACACTGGT\n"
          ]
        },
        {
          "data": {
            "text/plain": [
              "Seq('AGTACACTGGT')"
            ]
          },
          "execution_count": 5,
          "metadata": {},
          "output_type": "execute_result"
        }
      ],
      "source": [
        "my_seq = Seq(\"AGTACACTGGT\")\n",
        "print(my_seq)\n",
        "my_seq"
      ]
    },
    {
      "cell_type": "code",
      "execution_count": null,
      "id": "dd0a08fa-f803-44bd-bf54-5560186871cb",
      "metadata": {
        "tags": [],
        "id": "dd0a08fa-f803-44bd-bf54-5560186871cb",
        "outputId": "f90cc67b-9241-4a6f-c43d-2409552a0094"
      },
      "outputs": [
        {
          "data": {
            "text/plain": [
              "6"
            ]
          },
          "execution_count": 6,
          "metadata": {},
          "output_type": "execute_result"
        }
      ],
      "source": [
        "my_seq.find(\"CTG\")"
      ]
    },
    {
      "cell_type": "code",
      "execution_count": null,
      "id": "e36721b6-2393-414b-abc9-f73ccccde131",
      "metadata": {
        "tags": [],
        "id": "e36721b6-2393-414b-abc9-f73ccccde131",
        "outputId": "406da663-2837-4ab4-ed8f-a949de96b240"
      },
      "outputs": [
        {
          "data": {
            "text/plain": [
              "Seq('TCATGTGACCA')"
            ]
          },
          "execution_count": 7,
          "metadata": {},
          "output_type": "execute_result"
        }
      ],
      "source": [
        "my_seq.complement()"
      ]
    },
    {
      "cell_type": "code",
      "execution_count": null,
      "id": "6b40c5aa-9055-4255-a44a-a45899b86696",
      "metadata": {
        "tags": [],
        "id": "6b40c5aa-9055-4255-a44a-a45899b86696",
        "outputId": "a9621787-1b1d-4641-9ebb-140a6c0fec29"
      },
      "outputs": [
        {
          "data": {
            "text/plain": [
              "Seq('ACCAGTGTACT')"
            ]
          },
          "execution_count": 8,
          "metadata": {},
          "output_type": "execute_result"
        }
      ],
      "source": [
        "my_seq.reverse_complement()"
      ]
    },
    {
      "cell_type": "code",
      "execution_count": null,
      "id": "f233bb42-f83b-45e2-9d17-363a006f384f",
      "metadata": {
        "jupyter": {
          "outputs_hidden": true
        },
        "tags": [],
        "id": "f233bb42-f83b-45e2-9d17-363a006f384f",
        "outputId": "b80ebcc7-02ce-4067-e3e2-841caff12784"
      },
      "outputs": [
        {
          "name": "stdout",
          "output_type": "stream",
          "text": [
            "gi|2765658|emb|Z78533.1|CIZ78533\n",
            "Seq('CGTAACAAGGTTTCCGTAGGTGAACCTGCGGAAGGATCATTGATGAGACCGTGG...CGC')\n",
            "740\n",
            "gi|2765657|emb|Z78532.1|CCZ78532\n",
            "Seq('CGTAACAAGGTTTCCGTAGGTGAACCTGCGGAAGGATCATTGTTGAGACAACAG...GGC')\n",
            "753\n",
            "gi|2765656|emb|Z78531.1|CFZ78531\n",
            "Seq('CGTAACAAGGTTTCCGTAGGTGAACCTGCGGAAGGATCATTGTTGAGACAGCAG...TAA')\n",
            "748\n",
            "gi|2765655|emb|Z78530.1|CMZ78530\n",
            "Seq('CGTAACAAGGTTTCCGTAGGTGAACCTGCGGAAGGATCATTGTTGAAACAACAT...CAT')\n",
            "744\n",
            "gi|2765654|emb|Z78529.1|CLZ78529\n",
            "Seq('ACGGCGAGCTGCCGAAGGACATTGTTGAGACAGCAGAATATACGATTGAGTGAA...AAA')\n",
            "733\n",
            "gi|2765652|emb|Z78527.1|CYZ78527\n",
            "Seq('CGTAACAAGGTTTCCGTAGGTGAACCTGCGGAAGGATCATTGTTGAGACAGTAG...CCC')\n",
            "718\n",
            "gi|2765651|emb|Z78526.1|CGZ78526\n",
            "Seq('CGTAACAAGGTTTCCGTAGGTGAACCTGCGGAAGGATCATTGTTGAGACAGTAG...TGT')\n",
            "730\n",
            "gi|2765650|emb|Z78525.1|CAZ78525\n",
            "Seq('TGTTGAGATAGCAGAATATACATCGAGTGAATCCGGAGGACCTGTGGTTATTCG...GCA')\n",
            "704\n",
            "gi|2765649|emb|Z78524.1|CFZ78524\n",
            "Seq('CGTAACAAGGTTTCCGTAGGTGAACCTGCGGAAGGATCATTGTTGAGATAGTAG...AGC')\n",
            "740\n",
            "gi|2765648|emb|Z78523.1|CHZ78523\n",
            "Seq('CGTAACCAGGTTTCCGTAGGTGAACCTGCGGCAGGATCATTGTTGAGACAGCAG...AAG')\n",
            "709\n",
            "gi|2765647|emb|Z78522.1|CMZ78522\n",
            "Seq('CGTAACAAGGTTTCCGTAGGTGAACCTGCGGAAGGATCATTGTTGAGACAGCAG...GAG')\n",
            "700\n",
            "gi|2765646|emb|Z78521.1|CCZ78521\n",
            "Seq('GTAGGTGAACCTGCGGAAGGATCATTGTTGAGACAGTAGAATATATGATCGAGT...ACC')\n",
            "726\n",
            "gi|2765645|emb|Z78520.1|CSZ78520\n",
            "Seq('CGTAACAAGGTTTCCGTAGGTGAACCTGCGGAAGGATCATTGTTGAGACAGCAG...TTT')\n",
            "753\n",
            "gi|2765644|emb|Z78519.1|CPZ78519\n",
            "Seq('ATATGATCGAGTGAATCTGGTGGACTTGTGGTTACTCAGCTCGCCATAGGCTTT...TTA')\n",
            "699\n",
            "gi|2765643|emb|Z78518.1|CRZ78518\n",
            "Seq('CGTAACAAGGTTTCCGTAGGTGAACCTGCGGGAGGATCATTGTTGAGATAGTAG...TCC')\n",
            "658\n",
            "gi|2765642|emb|Z78517.1|CFZ78517\n",
            "Seq('CGTAACAAGGTTTCCGTAGGTGAACCTGCGGAAGGATCATTGTTGAGACAGTAG...AGC')\n",
            "752\n",
            "gi|2765641|emb|Z78516.1|CPZ78516\n",
            "Seq('CGTAACAAGGTTTCCGTAGGTGAACCTGCGGAAGGATCATTGTTGAGACAGTAT...TAA')\n",
            "726\n",
            "gi|2765640|emb|Z78515.1|MXZ78515\n",
            "Seq('CGTAACAAGGTTTCCGTAGGTGAACCTGCGGAAGGATCATTGCTGAGACCGTAG...AGC')\n",
            "765\n",
            "gi|2765639|emb|Z78514.1|PSZ78514\n",
            "Seq('CGTAACAAGGTTTCCGTAGGTGGACCTTCGGGAGGATCATTTTTGAAGCCCCCA...CTA')\n",
            "755\n",
            "gi|2765638|emb|Z78513.1|PBZ78513\n",
            "Seq('CGTAACAAGGTTTCCGTAGGTGAACCTGCGGAAGGATCATTGTTGAGACCGCCA...GAG')\n",
            "742\n",
            "gi|2765637|emb|Z78512.1|PWZ78512\n",
            "Seq('CGTAACAAGGTTTCCGTAGGTGGACCTTCGGGAGGATCATTTTTGAAGCCCCCA...AGC')\n",
            "762\n",
            "gi|2765636|emb|Z78511.1|PEZ78511\n",
            "Seq('CGTAACAAGGTTTCCGTAGGTGAACCTTCGGAAGGATCATTGTTGAGACCCCCA...GGA')\n",
            "745\n",
            "gi|2765635|emb|Z78510.1|PCZ78510\n",
            "Seq('CTAACCAGGGTTCCGAGGTGACCTTCGGGAGGATTCCTTTTTAAGCCCCCGAAA...TTA')\n",
            "750\n",
            "gi|2765634|emb|Z78509.1|PPZ78509\n",
            "Seq('CGTAACAAGGTTTCCGTAGGTGAACCTGCGGAAGGATCATTGTTGAGACCGCCA...GGA')\n",
            "731\n",
            "gi|2765633|emb|Z78508.1|PLZ78508\n",
            "Seq('CGTAACAAGGTTTCCGTAGGTGAACCTGCGGAAGGATCATTGTTGAGACCGCCA...TGA')\n",
            "741\n",
            "gi|2765632|emb|Z78507.1|PLZ78507\n",
            "Seq('CGTAACAAGGTTTCCGTAGGTGAACCTGCGGAAGGATCATTGTTGAGACCCCCA...TGA')\n",
            "740\n",
            "gi|2765631|emb|Z78506.1|PLZ78506\n",
            "Seq('CGTAACAAGGTTTCCGTAGGTGAACCTGCGGAAGGATCATTGTTGAGACCGCAA...TGA')\n",
            "727\n",
            "gi|2765630|emb|Z78505.1|PSZ78505\n",
            "Seq('CGTAACAAGGTTTCCGTAGGTGAACCTGCGGAAGGATCATTGTTGAGACCGCCA...TTT')\n",
            "711\n",
            "gi|2765629|emb|Z78504.1|PKZ78504\n",
            "Seq('CGTAACAAGGTTTCCGTAGGTGAACCTTCGGAAGGATCATTGTTGAGACCGCAA...TAA')\n",
            "743\n",
            "gi|2765628|emb|Z78503.1|PCZ78503\n",
            "Seq('CGTAACCAGGTTTCCGTAGGTGAACCTCCGGAAGGATCCTTGTTGAGACCGCCA...TAA')\n",
            "727\n",
            "gi|2765627|emb|Z78502.1|PBZ78502\n",
            "Seq('CGTAACCAGGTTTCCGTAGGTGAACCTCCGGAAGGATCATTGTTGAGACCGCCA...CGC')\n",
            "757\n",
            "gi|2765626|emb|Z78501.1|PCZ78501\n",
            "Seq('CGTAACAAGGTTTCCGTAGGTGAACCTGCGGAAGGATCATTGTTGAGACCGCAA...AGA')\n",
            "770\n",
            "gi|2765625|emb|Z78500.1|PWZ78500\n",
            "Seq('CGTAACAAGGTTTCCGTAGGTGAACCTGCGGAAGGCTCATTGTTGAGACCGCAA...AAG')\n",
            "767\n",
            "gi|2765624|emb|Z78499.1|PMZ78499\n",
            "Seq('CGTAACAAGGTTTCCGTAGGTGAACCTGCGGAGGGATCATTGTTGAGATCGCAT...ACC')\n",
            "759\n",
            "gi|2765623|emb|Z78498.1|PMZ78498\n",
            "Seq('CGTAACAAGGTTTCCGTAGGTGAACCTGCGGAAAGGTCATTGTTGAGATCACAT...AGC')\n",
            "750\n",
            "gi|2765622|emb|Z78497.1|PDZ78497\n",
            "Seq('CGTAACAAGGTTTCCGTAGGTGAACCTGCGGAAGGATCATTGTTGAGATCACAT...AGC')\n",
            "788\n",
            "gi|2765621|emb|Z78496.1|PAZ78496\n",
            "Seq('CGTAACAAGGTTTCCGTAGGTGAACCTGCGGAAGGATCATTGTTGAGATCGCAT...AGC')\n",
            "774\n",
            "gi|2765620|emb|Z78495.1|PEZ78495\n",
            "Seq('CGTAACAAGGTTTCCGTAGGTGAACCTCCGGAAGGATCATTGTTGAGATCACAT...GTG')\n",
            "789\n",
            "gi|2765619|emb|Z78494.1|PNZ78494\n",
            "Seq('CGTAACAAGGTTTCCGTAGGTGAACCTGCGGAAGGATCATTGTTGAGGTCGCAT...AAG')\n",
            "688\n",
            "gi|2765618|emb|Z78493.1|PGZ78493\n",
            "Seq('CGTAACAAGGATTCCGTAGGTGAACCTGCGGAAGGATCATTGTTGAGATCGCAT...CCC')\n",
            "719\n",
            "gi|2765617|emb|Z78492.1|PBZ78492\n",
            "Seq('CGTAACAAGGTTTCCGTAGGTGAACCTGCGGAAGGATCATTGTTGAGATCGCAT...ATA')\n",
            "743\n",
            "gi|2765616|emb|Z78491.1|PCZ78491\n",
            "Seq('CGTAACAAGGTTTCCGTAGGTGAACCTGCGGAAGGATCATTGTTGAGATCGCAT...AGC')\n",
            "737\n",
            "gi|2765615|emb|Z78490.1|PFZ78490\n",
            "Seq('CGTAACAAGGTTTCCGTAGGTGAACCTGCGGAAGGATCATTGTTGAGATCACAT...TGA')\n",
            "728\n",
            "gi|2765614|emb|Z78489.1|PDZ78489\n",
            "Seq('CGTAACAAGGTTTCCGTAGGTGAACCTGCGGAAGGATCATTGTTGAGATCACAT...GGC')\n",
            "740\n",
            "gi|2765613|emb|Z78488.1|PTZ78488\n",
            "Seq('CTGTAGGTGAACCTGCGGAAGGATCATTGTTGAGATCACGCAATAATTGATCGA...GCT')\n",
            "696\n",
            "gi|2765612|emb|Z78487.1|PHZ78487\n",
            "Seq('CGTAACAAGGTTTCCGTAGGTGAACCTGCGGAAGGATCATTGTTGAGATCACAT...TAA')\n",
            "732\n",
            "gi|2765611|emb|Z78486.1|PBZ78486\n",
            "Seq('CGTCACGAGGTTTCCGTAGGTGAATCTGCGGGAGGATCATTGTTGAGATCACAT...TGA')\n",
            "731\n",
            "gi|2765610|emb|Z78485.1|PHZ78485\n",
            "Seq('CTGAACCTGGTGTCCGAAGGTGAATCTGCGGATGGATCATTGTTGAGATATCAT...GTA')\n",
            "735\n",
            "gi|2765609|emb|Z78484.1|PCZ78484\n",
            "Seq('CGTAACAAGGTTTCCGTAGGTGAACCTGGGGAAGGATCATTGTTGAGATCACAT...TTT')\n",
            "720\n",
            "gi|2765608|emb|Z78483.1|PVZ78483\n",
            "Seq('CGTAACAAGGTTTCCGTAGGTGAACCTGCGGAAGGATCATTGTTGAGATCACAT...GCA')\n",
            "740\n",
            "gi|2765607|emb|Z78482.1|PEZ78482\n",
            "Seq('TCTACTGCAGTGACCGAGATTTGCCATCGAGCCTCCTGGGAGCTTTCTTGCTGG...GCA')\n",
            "629\n",
            "gi|2765606|emb|Z78481.1|PIZ78481\n",
            "Seq('CGTAACAAGGTTTCCGTAGGTGAACCTGCGGAAGGATCATTGTTGAGATCACAT...TGA')\n",
            "572\n",
            "gi|2765605|emb|Z78480.1|PGZ78480\n",
            "Seq('CGTAACAAGGTTTCCGTAGGTGAACCTGCGGAAGGATCATTGTTGAGATCACAT...TGA')\n",
            "587\n",
            "gi|2765604|emb|Z78479.1|PPZ78479\n",
            "Seq('CGTAACAAGGTTTCCGTAGGTGAACCTGCGGAAGGATCATTGTTGAGATCACAT...AGT')\n",
            "700\n",
            "gi|2765603|emb|Z78478.1|PVZ78478\n",
            "Seq('CGTAACAAGGTTTCCGTAGGTGAACCTCCGGAAGGATCAGTGTTGAGATCACAT...GGC')\n",
            "636\n",
            "gi|2765602|emb|Z78477.1|PVZ78477\n",
            "Seq('CGTAACAAGGTTTCCGTAGGTGAACCTGCGGAAGGATCATTGTTGAGATCACAT...TGC')\n",
            "716\n",
            "gi|2765601|emb|Z78476.1|PGZ78476\n",
            "Seq('CGTAACAAGGTTTCCGTAGGTGAACCTGCGGAAGGATCATTGTTGAGATCACAT...CCC')\n",
            "592\n",
            "gi|2765600|emb|Z78475.1|PSZ78475\n",
            "Seq('CGTAACAAGGTTTCCGTAGGTGAACCTGCGGAAGGATCATTGTTGAGATCACAT...GGT')\n",
            "716\n",
            "gi|2765599|emb|Z78474.1|PKZ78474\n",
            "Seq('CGTAACAAGGTTTCCGTAGGTGAACCTGCGGAAGGATCATTGTTGAGATCACGT...CTT')\n",
            "733\n",
            "gi|2765598|emb|Z78473.1|PSZ78473\n",
            "Seq('CGTAACAAGGTTTCCGTAGGTGAACCTGCGGAAGGATCATTGTTGAGATCACAT...AGG')\n",
            "626\n",
            "gi|2765597|emb|Z78472.1|PLZ78472\n",
            "Seq('CGTAACAAGGTTTCCGTAGGTGAACCTGCGGAAGGATCATTGTTGAGATCACAT...AGC')\n",
            "737\n",
            "gi|2765596|emb|Z78471.1|PDZ78471\n",
            "Seq('CGTAACAAGGTTTCCGTAGGTGAACCTGCGGAAGGATCATTGTTGAGATCACAT...AGC')\n",
            "740\n",
            "gi|2765595|emb|Z78470.1|PPZ78470\n",
            "Seq('CGTAACAAGGTTTCCGTAGGTGAACCTGCGGAAGGATCATTGTTGAGATCACAT...GTT')\n",
            "574\n",
            "gi|2765594|emb|Z78469.1|PHZ78469\n",
            "Seq('CGTAACAAGGTTTCCGTAGGTGAACCTGCGGAAGGATCATTGTTGAGATCACAT...GTT')\n",
            "594\n",
            "gi|2765593|emb|Z78468.1|PAZ78468\n",
            "Seq('CGTAACAAGGTTTCCGTAGGTGAACCTGCGGAAGGATCATTGTTGAGATCGCAT...GTT')\n",
            "610\n",
            "gi|2765592|emb|Z78467.1|PSZ78467\n",
            "Seq('CGTAACAAGGTTTCCGTAGGTGAACCTGCGGAAGGATCATTGTTGAGATCACAT...TGA')\n",
            "730\n",
            "gi|2765591|emb|Z78466.1|PPZ78466\n",
            "Seq('CGTAACAAGGTTTCCGTAGGTGAACCTGCGGAAGGATCATTGTTGAGATCACAT...CCC')\n",
            "641\n",
            "gi|2765590|emb|Z78465.1|PRZ78465\n",
            "Seq('CGTAACAAGGTTTCCGTAGGTGAACCTGCGGAAGGATCATTGTTGAGATCACAT...TGC')\n",
            "702\n",
            "gi|2765589|emb|Z78464.1|PGZ78464\n",
            "Seq('CGTAACAAGGTTTCCGTAGGTGAGCGGAAGGGTCATTGTTGAGATCACATAATA...AGC')\n",
            "733\n",
            "gi|2765588|emb|Z78463.1|PGZ78463\n",
            "Seq('CGTAACAAGGTTTCCGTAGGTGAACCTGCGGAAGGTTCATTGTTGAGATCACAT...AGC')\n",
            "738\n",
            "gi|2765587|emb|Z78462.1|PSZ78462\n",
            "Seq('CGTCACGAGGTCTCCGGATGTGACCCTGCGGAAGGATCATTGTTGAGATCACAT...CAT')\n",
            "736\n",
            "gi|2765586|emb|Z78461.1|PWZ78461\n",
            "Seq('CGTAACAAGGTTTCCGTAGGTGAACCTCCGGAAGGATCATTGTTGAGATCACAT...TAA')\n",
            "732\n",
            "gi|2765585|emb|Z78460.1|PCZ78460\n",
            "Seq('CGTAACAAGGTTTCCGTAGGTGAACCTCCGGAAGGATCATTGTTGAGATCACAT...TTA')\n",
            "745\n",
            "gi|2765584|emb|Z78459.1|PDZ78459\n",
            "Seq('CGTAACAAGGTTTCCGTAGGTGAACCTGCGGAAGGATCATTGTTGAGATCACAT...TTT')\n",
            "744\n",
            "gi|2765583|emb|Z78458.1|PHZ78458\n",
            "Seq('CGTAACAAGGTTTCCGTAGGTGAACCTGCGGAAGGATCATTGTTGAGATCACAT...TTG')\n",
            "738\n",
            "gi|2765582|emb|Z78457.1|PCZ78457\n",
            "Seq('CGTAACAAGGTTTCCGTAGGTGAACCTCCGGAAGGATCATTGTTGAGATCACAT...GAG')\n",
            "739\n",
            "gi|2765581|emb|Z78456.1|PTZ78456\n",
            "Seq('CGTAACAAGGTTTCCGTAGGTGAACCTGCGGAAGGATCATTGTTGAGATCACAT...AGC')\n",
            "740\n",
            "gi|2765580|emb|Z78455.1|PJZ78455\n",
            "Seq('CGTAACCAGGTTTCCGTAGGTGGACCTTCGGGAGGATCATTTTTGAGATCACAT...GCA')\n",
            "745\n",
            "gi|2765579|emb|Z78454.1|PFZ78454\n",
            "Seq('CGTAACAAGGTTTCCGTAGGTGAACCTGCGGAAGGATCATTGTTGAGATCACAT...AAC')\n",
            "695\n",
            "gi|2765578|emb|Z78453.1|PSZ78453\n",
            "Seq('CGTAACAAGGTTTCCGTAGGTGAACCTGCGGAAGGATCATTGTTGAGATCACAT...GCA')\n",
            "745\n",
            "gi|2765577|emb|Z78452.1|PBZ78452\n",
            "Seq('CGTAACAAGGTTTCCGTAGGTGAACCTGCGGAAGGATCATTGTTGAGATCACAT...GCA')\n",
            "743\n",
            "gi|2765576|emb|Z78451.1|PHZ78451\n",
            "Seq('CGTAACAAGGTTTCCGTAGGTGTACCTCCGGAAGGATCATTGTTGAGATCACAT...AGC')\n",
            "730\n",
            "gi|2765575|emb|Z78450.1|PPZ78450\n",
            "Seq('GGAAGGATCATTGCTGATATCACATAATAATTGATCGAGTTAAGCTGGAGGATC...GAG')\n",
            "706\n",
            "gi|2765574|emb|Z78449.1|PMZ78449\n",
            "Seq('CGTAACAAGGTTTCCGTAGGTGAACCTGCGGAAGGATCATTGTTGAGATCACAT...TGC')\n",
            "744\n",
            "gi|2765573|emb|Z78448.1|PAZ78448\n",
            "Seq('CGTAACAAGGTTTCCGTAGGTGAACCTGCGGAAGGATCATTGTTGAGATCACAT...AGG')\n",
            "742\n",
            "gi|2765572|emb|Z78447.1|PVZ78447\n",
            "Seq('CGTAACAAGGATTCCGTAGGTGAACCTGCGGGAGGATCATTGTTGAGATCACAT...AGC')\n",
            "694\n",
            "gi|2765571|emb|Z78446.1|PAZ78446\n",
            "Seq('CGTAACAAGGTTTCCGTAGGTGAACCTCCGGAAGGATCATTGTTGAGATCACAT...CCC')\n",
            "712\n",
            "gi|2765570|emb|Z78445.1|PUZ78445\n",
            "Seq('CGTAACAAGGTTTCCGTAGGTGAACCTGCGGAAGGATCATTGTTGAGATCACAT...TGT')\n",
            "715\n",
            "gi|2765569|emb|Z78444.1|PAZ78444\n",
            "Seq('CGTAACAAGGTTTCCGTAGGGTGAACTGCGGAAGGATCATTGTTGAGATCACAT...ATT')\n",
            "688\n",
            "gi|2765568|emb|Z78443.1|PLZ78443\n",
            "Seq('CGTAACAAGGTTTCCGTAGGTGAACCTGCGGAAGGATCATTGTTGAGATCACAT...AGG')\n",
            "784\n",
            "gi|2765567|emb|Z78442.1|PBZ78442\n",
            "Seq('GTAGGTGAACCTGCGGAAGGATCATTGTTGAGATCACATAATAATTGATCGAGT...AGT')\n",
            "721\n",
            "gi|2765566|emb|Z78441.1|PSZ78441\n",
            "Seq('GGAAGGTCATTGCCGATATCACATAATAATTGATCGAGTTAATCTGGAGGATCT...GAG')\n",
            "703\n",
            "gi|2765565|emb|Z78440.1|PPZ78440\n",
            "Seq('CGTAACAAGGTTTCCGTAGGTGGACCTCCGGGAGGATCATTGTTGAGATCACAT...GCA')\n",
            "744\n",
            "gi|2765564|emb|Z78439.1|PBZ78439\n",
            "Seq('CATTGTTGAGATCACATAATAATTGATCGAGTTAATCTGGAGGATCTGTTTACT...GCC')\n",
            "592\n"
          ]
        }
      ],
      "source": [
        "from Bio import SeqIO\n",
        "for seq_record in SeqIO.parse(\"ls_orchid.fasta\", \"fasta\"):\n",
        "    print(seq_record.id)\n",
        "    print(repr(seq_record.seq))\n",
        "    print(len(seq_record))"
      ]
    },
    {
      "cell_type": "code",
      "execution_count": null,
      "id": "bf43bab4-49ac-437f-ae6d-f69ab7f3fc14",
      "metadata": {
        "tags": [],
        "id": "bf43bab4-49ac-437f-ae6d-f69ab7f3fc14",
        "outputId": "1554a28d-0686-409c-bf56-d098bcf2b8d6"
      },
      "outputs": [
        {
          "data": {
            "text/plain": [
              "Seq('AUGGCCAUUGUAAUGGGCCGCUGAAAGGGUGCCCGAUAG')"
            ]
          },
          "execution_count": 10,
          "metadata": {},
          "output_type": "execute_result"
        }
      ],
      "source": [
        "messanger_rna = Seq(\"AUGGCCAUUGUAAUGGGCCGCUGAAAGGGUGCCCGAUAG\")\n",
        "messanger_rna"
      ]
    },
    {
      "cell_type": "code",
      "execution_count": null,
      "id": "3c4b8372-68b2-4888-81d1-babc9feea0ce",
      "metadata": {
        "tags": [],
        "id": "3c4b8372-68b2-4888-81d1-babc9feea0ce",
        "outputId": "f1a403cf-2223-462a-c708-4b88a154eca7"
      },
      "outputs": [
        {
          "data": {
            "text/plain": [
              "Seq('MAIVMGR*KGAR*')"
            ]
          },
          "execution_count": 11,
          "metadata": {},
          "output_type": "execute_result"
        }
      ],
      "source": [
        "messanger_rna.translate()"
      ]
    },
    {
      "cell_type": "code",
      "execution_count": null,
      "id": "1e15f2cf-05b0-4392-b321-4333080d4910",
      "metadata": {
        "tags": [],
        "id": "1e15f2cf-05b0-4392-b321-4333080d4910",
        "outputId": "5edbe0a4-981f-4848-b233-5441d5eb0890"
      },
      "outputs": [
        {
          "name": "stdout",
          "output_type": "stream",
          "text": [
            "0 G\n",
            "1 A\n",
            "2 T\n",
            "3 C\n",
            "4 G\n",
            "5\n"
          ]
        }
      ],
      "source": [
        "from Bio.Seq import Seq\n",
        "my_seq = Seq(\"GATCG\")\n",
        "for index, letter in enumerate(my_seq):\n",
        "    print(\"%i %s\" % (index, letter))\n",
        "\n",
        "print(len(my_seq))"
      ]
    },
    {
      "cell_type": "code",
      "execution_count": null,
      "id": "2eccc0e9-6f90-4331-b22f-41233be6c5ad",
      "metadata": {
        "tags": [],
        "id": "2eccc0e9-6f90-4331-b22f-41233be6c5ad"
      },
      "outputs": [],
      "source": [
        "from Bio.Seq import Seq"
      ]
    },
    {
      "cell_type": "code",
      "execution_count": null,
      "id": "13fd8b45-b205-41cc-8bec-8a4a948ffee4",
      "metadata": {
        "tags": [],
        "id": "13fd8b45-b205-41cc-8bec-8a4a948ffee4",
        "outputId": "ba5d4e46-0997-42a3-9e53-7338a5e41c7b"
      },
      "outputs": [
        {
          "data": {
            "text/plain": [
              "2"
            ]
          },
          "execution_count": 13,
          "metadata": {},
          "output_type": "execute_result"
        }
      ],
      "source": [
        "\"AAAA\" .count(\"AA\")"
      ]
    },
    {
      "cell_type": "code",
      "execution_count": null,
      "id": "2a7dc5cc-2bc1-470d-9d6f-bde8cd65b70b",
      "metadata": {
        "tags": [],
        "id": "2a7dc5cc-2bc1-470d-9d6f-bde8cd65b70b",
        "outputId": "01cbb7ea-e7ff-49cf-dae8-f026b1b7e144"
      },
      "outputs": [
        {
          "data": {
            "text/plain": [
              "2"
            ]
          },
          "execution_count": 14,
          "metadata": {},
          "output_type": "execute_result"
        }
      ],
      "source": [
        "Seq(\"AAAA\") .count (\"AA\")"
      ]
    },
    {
      "cell_type": "code",
      "execution_count": null,
      "id": "e025808f-8858-4bea-9f65-8babb592d0c8",
      "metadata": {
        "tags": [],
        "id": "e025808f-8858-4bea-9f65-8babb592d0c8",
        "outputId": "61c23457-2f6e-455b-fab4-5a6248d9a4f3"
      },
      "outputs": [
        {
          "data": {
            "text/plain": [
              "0.46875"
            ]
          },
          "execution_count": 20,
          "metadata": {},
          "output_type": "execute_result"
        }
      ],
      "source": [
        "from Bio.Seq import Seq\n",
        "from Bio.SeqUtils import gc_fraction\n",
        "my_seq = Seq(\"GATCGATGGGCCTATATAGGATCGAAAATCGC\")\n",
        "gc_fraction(my_seq)"
      ]
    },
    {
      "cell_type": "code",
      "execution_count": null,
      "id": "36b4f087-ab7b-49f2-bad9-dd2939c6f5c4",
      "metadata": {
        "tags": [],
        "id": "36b4f087-ab7b-49f2-bad9-dd2939c6f5c4",
        "outputId": "66555c9a-695d-4b01-ad5b-bca98f7eed0e"
      },
      "outputs": [
        {
          "data": {
            "text/plain": [
              "Seq('GATGGGCC')"
            ]
          },
          "execution_count": 21,
          "metadata": {},
          "output_type": "execute_result"
        }
      ],
      "source": [
        "from Bio.Seq import Seq\n",
        "my_seq = Seq(\"GATCGATGGGCCTATATAGGATCGAAAATCGC\")\n",
        "my_seq[4:12]"
      ]
    },
    {
      "cell_type": "code",
      "execution_count": null,
      "id": "50e4c152-137d-475a-b6d8-6c3115e6dac6",
      "metadata": {
        "tags": [],
        "id": "50e4c152-137d-475a-b6d8-6c3115e6dac6",
        "outputId": "64582371-aa42-45ab-e3cd-1f1d3137f684"
      },
      "outputs": [
        {
          "data": {
            "text/plain": [
              "Seq('AGGCATGCATC')"
            ]
          },
          "execution_count": 22,
          "metadata": {},
          "output_type": "execute_result"
        }
      ],
      "source": [
        "my_seq[1::3]"
      ]
    },
    {
      "cell_type": "code",
      "execution_count": null,
      "id": "5ce81844-5622-402a-bbe9-199a4d32ffbe",
      "metadata": {
        "tags": [],
        "id": "5ce81844-5622-402a-bbe9-199a4d32ffbe",
        "outputId": "dd7f2370-4531-4cf0-ce96-7fb975e2fc5c"
      },
      "outputs": [
        {
          "data": {
            "text/plain": [
              "'GATCGATGGGCCTATATAGGATCGAAAATCGC'"
            ]
          },
          "execution_count": 23,
          "metadata": {},
          "output_type": "execute_result"
        }
      ],
      "source": [
        " str(my_seq)"
      ]
    },
    {
      "cell_type": "code",
      "execution_count": null,
      "id": "35a170da-86b1-4033-a64b-d5baadb3cc48",
      "metadata": {
        "tags": [],
        "id": "35a170da-86b1-4033-a64b-d5baadb3cc48",
        "outputId": "cacde891-69f4-424f-f1f2-314d837401a9"
      },
      "outputs": [
        {
          "name": "stdout",
          "output_type": "stream",
          "text": [
            "GATCGATGGGCCTATATAGGATCGAAAATCGC\n"
          ]
        }
      ],
      "source": [
        "print(my_seq)"
      ]
    },
    {
      "cell_type": "code",
      "execution_count": null,
      "id": "733855b6-e387-4e0f-a474-9fb041e24de3",
      "metadata": {
        "tags": [],
        "id": "733855b6-e387-4e0f-a474-9fb041e24de3",
        "outputId": "274627e2-0cf2-4d75-aef0-fa5fedfe7785"
      },
      "outputs": [
        {
          "name": "stdout",
          "output_type": "stream",
          "text": [
            ">Name\n",
            "GATCGATGGGCCTATATAGGATCGAAAATCGC\n",
            "\n"
          ]
        }
      ],
      "source": [
        "fasta_format_string = \">Name\\n%s\\n\" % my_seq\n",
        "print(fasta_format_string)"
      ]
    },
    {
      "cell_type": "code",
      "execution_count": null,
      "id": "087cf17a-806b-4ba1-b285-b6614f503ff3",
      "metadata": {
        "tags": [],
        "id": "087cf17a-806b-4ba1-b285-b6614f503ff3",
        "outputId": "414eb13a-f82a-45c5-be21-a46c18b6e0c0"
      },
      "outputs": [
        {
          "data": {
            "text/plain": [
              "Seq('ACGTAACCGG')"
            ]
          },
          "execution_count": 26,
          "metadata": {},
          "output_type": "execute_result"
        }
      ],
      "source": [
        "from Bio.Seq import Seq\n",
        "seq1 = Seq(\"ACGT\")\n",
        "seq2 = Seq(\"AACCGG\")\n",
        "seq1 + seq2"
      ]
    },
    {
      "cell_type": "code",
      "execution_count": null,
      "id": "7557e0f7-d5fb-4f28-b335-f6d65807350f",
      "metadata": {
        "tags": [],
        "id": "7557e0f7-d5fb-4f28-b335-f6d65807350f",
        "outputId": "6a679dfd-a4bd-4eee-ef3b-5a55bbb835aa"
      },
      "outputs": [
        {
          "data": {
            "text/plain": [
              "Seq('EVRNAKACGT')"
            ]
          },
          "execution_count": 27,
          "metadata": {},
          "output_type": "execute_result"
        }
      ],
      "source": [
        "from Bio.Seq import Seq\n",
        "protein_seq = Seq(\"EVRNAK\")\n",
        "dna_seq = Seq(\"ACGT\")\n",
        "protein_seq + dna_seq"
      ]
    },
    {
      "cell_type": "code",
      "execution_count": null,
      "id": "dbaae762-e889-4b63-88db-8d5b89a99c8c",
      "metadata": {
        "tags": [],
        "id": "dbaae762-e889-4b63-88db-8d5b89a99c8c",
        "outputId": "ee988511-0d62-487b-fcae-561a729f13f1"
      },
      "outputs": [
        {
          "data": {
            "text/plain": [
              "Seq('ACGTAACCGGTT')"
            ]
          },
          "execution_count": 28,
          "metadata": {},
          "output_type": "execute_result"
        }
      ],
      "source": [
        "from Bio.Seq import Seq\n",
        "list_of_seqs = [Seq(\"ACGT\"), Seq(\"AACC\"), Seq(\"GGTT\")]\n",
        "concatenated = Seq(\"\")\n",
        "for s in list_of_seqs:\n",
        "    concatenated += s\n",
        "\n",
        "concatenated"
      ]
    },
    {
      "cell_type": "code",
      "execution_count": null,
      "id": "b0de6fbc-bc41-4258-9ce1-7f103a4442fd",
      "metadata": {
        "tags": [],
        "id": "b0de6fbc-bc41-4258-9ce1-7f103a4442fd",
        "outputId": "71f2ff7f-4e65-4717-ad0e-ba4a0b3a37cb"
      },
      "outputs": [
        {
          "data": {
            "text/plain": [
              "Seq('ATGNNNNNNNNNNATCCCGNNNNNNNNNNTTGCA')"
            ]
          },
          "execution_count": 30,
          "metadata": {},
          "output_type": "execute_result"
        }
      ],
      "source": [
        "from Bio.Seq import Seq\n",
        "contigs = [Seq(\"ATG\"), Seq(\"ATCCCG\"), Seq(\"TTGCA\")]\n",
        "spacer = Seq(\"N\" * 10)\n",
        "spacer.join(contigs)"
      ]
    },
    {
      "cell_type": "code",
      "execution_count": null,
      "id": "a0e29dbb-3f37-4e2e-a867-5a60afbfecdb",
      "metadata": {
        "tags": [],
        "id": "a0e29dbb-3f37-4e2e-a867-5a60afbfecdb",
        "outputId": "8d0a5295-4a0b-475b-dc4b-2bd2c22e5891"
      },
      "outputs": [
        {
          "data": {
            "text/plain": [
              "Seq('acgtACGT')"
            ]
          },
          "execution_count": 32,
          "metadata": {},
          "output_type": "execute_result"
        }
      ],
      "source": [
        "from Bio.Seq import Seq\n",
        "dna_seq = Seq(\"acgtACGT\")\n",
        "dna_seq"
      ]
    },
    {
      "cell_type": "code",
      "execution_count": null,
      "id": "2394d64a-9695-43ab-92cf-134c3371730b",
      "metadata": {
        "tags": [],
        "id": "2394d64a-9695-43ab-92cf-134c3371730b",
        "outputId": "f3f0a332-86e0-4abb-8c9b-715260ec168c"
      },
      "outputs": [
        {
          "data": {
            "text/plain": [
              "Seq('ACGTACGT')"
            ]
          },
          "execution_count": 33,
          "metadata": {},
          "output_type": "execute_result"
        }
      ],
      "source": [
        "dna_seq.upper()"
      ]
    },
    {
      "cell_type": "code",
      "execution_count": null,
      "id": "8a037f8c-12d9-473d-8457-8a291f7fffb5",
      "metadata": {
        "tags": [],
        "id": "8a037f8c-12d9-473d-8457-8a291f7fffb5",
        "outputId": "19d069e5-91f8-4528-9bdc-ccb5b292da72"
      },
      "outputs": [
        {
          "data": {
            "text/plain": [
              "Seq('acgtacgt')"
            ]
          },
          "execution_count": 34,
          "metadata": {},
          "output_type": "execute_result"
        }
      ],
      "source": [
        "dna_seq.lower()"
      ]
    },
    {
      "cell_type": "code",
      "execution_count": null,
      "id": "f08e2cf3-cca0-4152-9a76-76b3cd0fdfb3",
      "metadata": {
        "tags": [],
        "id": "f08e2cf3-cca0-4152-9a76-76b3cd0fdfb3",
        "outputId": "18384cea-b6a1-4410-ae13-12b16090ede2"
      },
      "outputs": [
        {
          "data": {
            "text/plain": [
              "False"
            ]
          },
          "execution_count": 35,
          "metadata": {},
          "output_type": "execute_result"
        }
      ],
      "source": [
        "\"GTAC\" in dna_seq"
      ]
    },
    {
      "cell_type": "code",
      "execution_count": null,
      "id": "2417c5c7-6d36-410f-92eb-84a4f30ec10e",
      "metadata": {
        "tags": [],
        "id": "2417c5c7-6d36-410f-92eb-84a4f30ec10e",
        "outputId": "78de0de5-2470-4c8e-c07d-c4abecfe1589"
      },
      "outputs": [
        {
          "data": {
            "text/plain": [
              "False"
            ]
          },
          "execution_count": 36,
          "metadata": {},
          "output_type": "execute_result"
        }
      ],
      "source": [
        " \"GTCA\" in dna_seq.upper()"
      ]
    },
    {
      "cell_type": "code",
      "execution_count": null,
      "id": "aa8579be-32a4-40d4-a461-8c7047dddc12",
      "metadata": {
        "tags": [],
        "id": "aa8579be-32a4-40d4-a461-8c7047dddc12",
        "outputId": "2c9f10d2-510c-4851-9756-5eadb472e5b8"
      },
      "outputs": [
        {
          "data": {
            "text/plain": [
              "Seq('GATCGATGGGCCTATATAGGATCGAAAATCGC')"
            ]
          },
          "execution_count": 37,
          "metadata": {},
          "output_type": "execute_result"
        }
      ],
      "source": [
        "from Bio.Seq import Seq\n",
        "my_seq = Seq(\"GATCGATGGGCCTATATAGGATCGAAAATCGC\")\n",
        "my_seq"
      ]
    },
    {
      "cell_type": "code",
      "execution_count": null,
      "id": "18a228d0-4281-40a7-8e9f-5548c8cb7058",
      "metadata": {
        "tags": [],
        "id": "18a228d0-4281-40a7-8e9f-5548c8cb7058",
        "outputId": "1174d313-19fc-44de-9691-4eb753e51d89"
      },
      "outputs": [
        {
          "data": {
            "text/plain": [
              "Seq('CTAGCTACCCGGATATATCCTAGCTTTTAGCG')"
            ]
          },
          "execution_count": 39,
          "metadata": {},
          "output_type": "execute_result"
        }
      ],
      "source": [
        " my_seq.complement()"
      ]
    },
    {
      "cell_type": "code",
      "execution_count": null,
      "id": "e82b1901-acaa-4c2d-8c77-515c6a0b0349",
      "metadata": {
        "tags": [],
        "id": "e82b1901-acaa-4c2d-8c77-515c6a0b0349",
        "outputId": "14f5d83e-bd9e-4d57-b9d4-e684f0b6d92c"
      },
      "outputs": [
        {
          "data": {
            "text/plain": [
              "Seq('GCGATTTTCGATCCTATATAGGCCCATCGATC')"
            ]
          },
          "execution_count": 40,
          "metadata": {},
          "output_type": "execute_result"
        }
      ],
      "source": [
        " my_seq.reverse_complement()"
      ]
    },
    {
      "cell_type": "code",
      "execution_count": null,
      "id": "44872e62-76ba-47bf-ad5c-285ec0737f33",
      "metadata": {
        "tags": [],
        "id": "44872e62-76ba-47bf-ad5c-285ec0737f33",
        "outputId": "1d34f389-86d4-4850-bf99-cf6c0ae21822"
      },
      "outputs": [
        {
          "data": {
            "text/plain": [
              "Seq('ATGGCCATTGTAATGGGCCGCTGAAAGGGTGCCCGATAG')"
            ]
          },
          "execution_count": 41,
          "metadata": {},
          "output_type": "execute_result"
        }
      ],
      "source": [
        "from Bio.Seq import Seq\n",
        "coding_dna = Seq(\"ATGGCCATTGTAATGGGCCGCTGAAAGGGTGCCCGATAG\")\n",
        "coding_dna"
      ]
    },
    {
      "cell_type": "code",
      "execution_count": null,
      "id": "ca145ca5-4af9-4815-8f6d-ca22d40a6b6e",
      "metadata": {
        "tags": [],
        "id": "ca145ca5-4af9-4815-8f6d-ca22d40a6b6e",
        "outputId": "6abe3cff-269f-4a0c-a2ec-3db63252deb3"
      },
      "outputs": [
        {
          "data": {
            "text/plain": [
              "Seq('CTATCGGGCACCCTTTCAGCGGCCCATTACAATGGCCAT')"
            ]
          },
          "execution_count": 42,
          "metadata": {},
          "output_type": "execute_result"
        }
      ],
      "source": [
        "template_dna = coding_dna.reverse_complement()\n",
        "template_dna"
      ]
    },
    {
      "cell_type": "code",
      "execution_count": null,
      "id": "8a113668-2d98-4983-b3e5-025281017218",
      "metadata": {
        "tags": [],
        "id": "8a113668-2d98-4983-b3e5-025281017218",
        "outputId": "76aea88d-b32e-4a58-9c21-cc62a06b9fcf"
      },
      "outputs": [
        {
          "data": {
            "text/plain": [
              "Seq('ATGGCCATTGTAATGGGCCGCTGAAAGGGTGCCCGATAG')"
            ]
          },
          "execution_count": 43,
          "metadata": {},
          "output_type": "execute_result"
        }
      ],
      "source": [
        "coding_dna"
      ]
    },
    {
      "cell_type": "code",
      "execution_count": null,
      "id": "e47eb283-5d5a-4cf5-8bc9-711a8e77b425",
      "metadata": {
        "tags": [],
        "id": "e47eb283-5d5a-4cf5-8bc9-711a8e77b425",
        "outputId": "4f388d3d-d9f3-4463-f349-5efe14244fb6"
      },
      "outputs": [
        {
          "data": {
            "text/plain": [
              "Seq('AUGGCCAUUGUAAUGGGCCGCUGAAAGGGUGCCCGAUAG')"
            ]
          },
          "execution_count": 44,
          "metadata": {},
          "output_type": "execute_result"
        }
      ],
      "source": [
        "messenger_rna = coding_dna.transcribe()\n",
        "messenger_rna"
      ]
    },
    {
      "cell_type": "code",
      "execution_count": null,
      "id": "cebd7274-5720-4974-8156-5263a289e7cb",
      "metadata": {
        "tags": [],
        "id": "cebd7274-5720-4974-8156-5263a289e7cb"
      },
      "outputs": [],
      "source": [
        "from Bio.Data import CodonTable\n",
        "standard_table = CodonTable.unambiguous_dna_by_name[\"Standard\"]\n",
        "mito_table = CodonTable.unambiguous_dna_by_name[\"Vertebrate Mitochondrial\"]"
      ]
    },
    {
      "cell_type": "code",
      "execution_count": null,
      "id": "d8719f0a-b9bc-4b19-b308-f78cd09feec5",
      "metadata": {
        "tags": [],
        "id": "d8719f0a-b9bc-4b19-b308-f78cd09feec5"
      },
      "outputs": [],
      "source": [
        "from Bio.Data import CodonTable\n",
        "standard_table = CodonTable.unambiguous_dna_by_id[1]\n",
        "mito_table = CodonTable.unambiguous_dna_by_id[2]"
      ]
    },
    {
      "cell_type": "code",
      "execution_count": null,
      "id": "0b85ba80-d0ad-45a1-a9f4-ffc25726bd35",
      "metadata": {
        "tags": [],
        "id": "0b85ba80-d0ad-45a1-a9f4-ffc25726bd35",
        "outputId": "6f9bc78b-815b-4adc-81e4-480c8791aa2c"
      },
      "outputs": [
        {
          "name": "stdout",
          "output_type": "stream",
          "text": [
            "Table 1 Standard, SGC0\n",
            "\n",
            "  |  T      |  C      |  A      |  G      |\n",
            "--+---------+---------+---------+---------+--\n",
            "T | TTT F   | TCT S   | TAT Y   | TGT C   | T\n",
            "T | TTC F   | TCC S   | TAC Y   | TGC C   | C\n",
            "T | TTA L   | TCA S   | TAA Stop| TGA Stop| A\n",
            "T | TTG L(s)| TCG S   | TAG Stop| TGG W   | G\n",
            "--+---------+---------+---------+---------+--\n",
            "C | CTT L   | CCT P   | CAT H   | CGT R   | T\n",
            "C | CTC L   | CCC P   | CAC H   | CGC R   | C\n",
            "C | CTA L   | CCA P   | CAA Q   | CGA R   | A\n",
            "C | CTG L(s)| CCG P   | CAG Q   | CGG R   | G\n",
            "--+---------+---------+---------+---------+--\n",
            "A | ATT I   | ACT T   | AAT N   | AGT S   | T\n",
            "A | ATC I   | ACC T   | AAC N   | AGC S   | C\n",
            "A | ATA I   | ACA T   | AAA K   | AGA R   | A\n",
            "A | ATG M(s)| ACG T   | AAG K   | AGG R   | G\n",
            "--+---------+---------+---------+---------+--\n",
            "G | GTT V   | GCT A   | GAT D   | GGT G   | T\n",
            "G | GTC V   | GCC A   | GAC D   | GGC G   | C\n",
            "G | GTA V   | GCA A   | GAA E   | GGA G   | A\n",
            "G | GTG V   | GCG A   | GAG E   | GGG G   | G\n",
            "--+---------+---------+---------+---------+--\n"
          ]
        }
      ],
      "source": [
        " print(standard_table)"
      ]
    },
    {
      "cell_type": "code",
      "execution_count": null,
      "id": "a23481b3-1755-4356-998a-6e6546a05db4",
      "metadata": {
        "tags": [],
        "id": "a23481b3-1755-4356-998a-6e6546a05db4",
        "outputId": "d2365be1-239e-47dd-b8e6-4d0ceb459b2b"
      },
      "outputs": [
        {
          "name": "stdout",
          "output_type": "stream",
          "text": [
            "Table 2 Vertebrate Mitochondrial, SGC1\n",
            "\n",
            "  |  T      |  C      |  A      |  G      |\n",
            "--+---------+---------+---------+---------+--\n",
            "T | TTT F   | TCT S   | TAT Y   | TGT C   | T\n",
            "T | TTC F   | TCC S   | TAC Y   | TGC C   | C\n",
            "T | TTA L   | TCA S   | TAA Stop| TGA W   | A\n",
            "T | TTG L   | TCG S   | TAG Stop| TGG W   | G\n",
            "--+---------+---------+---------+---------+--\n",
            "C | CTT L   | CCT P   | CAT H   | CGT R   | T\n",
            "C | CTC L   | CCC P   | CAC H   | CGC R   | C\n",
            "C | CTA L   | CCA P   | CAA Q   | CGA R   | A\n",
            "C | CTG L   | CCG P   | CAG Q   | CGG R   | G\n",
            "--+---------+---------+---------+---------+--\n",
            "A | ATT I(s)| ACT T   | AAT N   | AGT S   | T\n",
            "A | ATC I(s)| ACC T   | AAC N   | AGC S   | C\n",
            "A | ATA M(s)| ACA T   | AAA K   | AGA Stop| A\n",
            "A | ATG M(s)| ACG T   | AAG K   | AGG Stop| G\n",
            "--+---------+---------+---------+---------+--\n",
            "G | GTT V   | GCT A   | GAT D   | GGT G   | T\n",
            "G | GTC V   | GCC A   | GAC D   | GGC G   | C\n",
            "G | GTA V   | GCA A   | GAA E   | GGA G   | A\n",
            "G | GTG V(s)| GCG A   | GAG E   | GGG G   | G\n",
            "--+---------+---------+---------+---------+--\n"
          ]
        }
      ],
      "source": [
        " print(mito_table)"
      ]
    },
    {
      "cell_type": "code",
      "execution_count": null,
      "id": "febe4b9c-b480-4572-931e-5fd90df8c6cf",
      "metadata": {
        "tags": [],
        "id": "febe4b9c-b480-4572-931e-5fd90df8c6cf",
        "outputId": "15281edc-8120-4233-a1a7-e8d8dcf939c7"
      },
      "outputs": [
        {
          "data": {
            "text/plain": [
              "['TAA', 'TAG', 'AGA', 'AGG']"
            ]
          },
          "execution_count": 52,
          "metadata": {},
          "output_type": "execute_result"
        }
      ],
      "source": [
        "mito_table.stop_codons"
      ]
    },
    {
      "cell_type": "code",
      "execution_count": null,
      "id": "4016c45e-dc2d-429d-866b-719e0244416b",
      "metadata": {
        "tags": [],
        "id": "4016c45e-dc2d-429d-866b-719e0244416b",
        "outputId": "1bc5dc26-2160-4902-96c5-565750682439"
      },
      "outputs": [
        {
          "data": {
            "text/plain": [
              "['ATT', 'ATC', 'ATA', 'ATG', 'GTG']"
            ]
          },
          "execution_count": 53,
          "metadata": {},
          "output_type": "execute_result"
        }
      ],
      "source": [
        "mito_table.start_codons"
      ]
    },
    {
      "cell_type": "code",
      "execution_count": null,
      "id": "6796fa90-c6cf-49f4-bfbf-4eab4e51e562",
      "metadata": {
        "tags": [],
        "id": "6796fa90-c6cf-49f4-bfbf-4eab4e51e562",
        "outputId": "6c6c0c4e-8f3d-4f32-d10c-2a5159cf8e0b"
      },
      "outputs": [
        {
          "data": {
            "text/plain": [
              "'T'"
            ]
          },
          "execution_count": 54,
          "metadata": {},
          "output_type": "execute_result"
        }
      ],
      "source": [
        "mito_table.forward_table[\"ACG\"]"
      ]
    },
    {
      "cell_type": "code",
      "execution_count": null,
      "id": "8b07b59b-4174-446d-be96-371a1617b343",
      "metadata": {
        "tags": [],
        "id": "8b07b59b-4174-446d-be96-371a1617b343",
        "outputId": "0e4511c2-4dc2-4a20-e673-8efaec07571d"
      },
      "outputs": [
        {
          "data": {
            "text/plain": [
              "True"
            ]
          },
          "execution_count": 55,
          "metadata": {},
          "output_type": "execute_result"
        }
      ],
      "source": [
        "from Bio.Seq import Seq\n",
        "seq1 = Seq(\"ACGT\")\n",
        "\"ACGT\" == seq1"
      ]
    },
    {
      "cell_type": "code",
      "execution_count": null,
      "id": "2655cd6e-bc99-4b87-bab0-d01c289098fc",
      "metadata": {
        "tags": [],
        "id": "2655cd6e-bc99-4b87-bab0-d01c289098fc",
        "outputId": "0a0edabe-9984-4343-c1b2-395d402201d3"
      },
      "outputs": [
        {
          "data": {
            "text/plain": [
              "False"
            ]
          },
          "execution_count": 56,
          "metadata": {},
          "output_type": "execute_result"
        }
      ],
      "source": [
        "seq1 == \"ACTG\""
      ]
    },
    {
      "cell_type": "code",
      "execution_count": null,
      "id": "8d9335d7-c739-48b4-b774-599a891dd04b",
      "metadata": {
        "tags": [],
        "id": "8d9335d7-c739-48b4-b774-599a891dd04b",
        "outputId": "d613e273-0b0f-458a-86c3-9958106263b4"
      },
      "outputs": [
        {
          "data": {
            "text/plain": [
              "True"
            ]
          },
          "execution_count": 57,
          "metadata": {},
          "output_type": "execute_result"
        }
      ],
      "source": [
        "seq1 == \"ACGT\""
      ]
    },
    {
      "cell_type": "code",
      "execution_count": null,
      "id": "dd54364f-f874-4d5a-bd8e-32d1e947dc12",
      "metadata": {
        "tags": [],
        "id": "dd54364f-f874-4d5a-bd8e-32d1e947dc12"
      },
      "outputs": [],
      "source": [
        "from Bio.Seq import Seq\n",
        "unknown_seq = Seq(None, 10)"
      ]
    },
    {
      "cell_type": "code",
      "execution_count": null,
      "id": "7762ef35-d033-4403-bce3-5625a28a73b3",
      "metadata": {
        "tags": [],
        "id": "7762ef35-d033-4403-bce3-5625a28a73b3",
        "outputId": "1a48bf69-f2e0-47d8-f116-4a8c74dc7cef"
      },
      "outputs": [
        {
          "data": {
            "text/plain": [
              "Seq(None, length=10)"
            ]
          },
          "execution_count": 59,
          "metadata": {},
          "output_type": "execute_result"
        }
      ],
      "source": [
        "unknown_seq"
      ]
    },
    {
      "cell_type": "code",
      "execution_count": null,
      "id": "857e594f-4be1-4daf-93f6-21d3c438b1a8",
      "metadata": {
        "tags": [],
        "id": "857e594f-4be1-4daf-93f6-21d3c438b1a8",
        "outputId": "269b7be4-fc98-44a0-8740-e3c09bebb225"
      },
      "outputs": [
        {
          "data": {
            "text/plain": [
              "10"
            ]
          },
          "execution_count": 60,
          "metadata": {},
          "output_type": "execute_result"
        }
      ],
      "source": [
        "len(unknown_seq)"
      ]
    },
    {
      "cell_type": "code",
      "execution_count": null,
      "id": "86efc247-5cb5-47bb-901a-f8048bc9beee",
      "metadata": {
        "tags": [],
        "id": "86efc247-5cb5-47bb-901a-f8048bc9beee",
        "outputId": "14ae5d4c-b131-4f74-87d8-d424a2813659"
      },
      "outputs": [
        {
          "ename": "UndefinedSequenceError",
          "evalue": "Sequence content is undefined",
          "output_type": "error",
          "traceback": [
            "\u001b[1;31m---------------------------------------------------------------------------\u001b[0m",
            "\u001b[1;31mUndefinedSequenceError\u001b[0m                    Traceback (most recent call last)",
            "Cell \u001b[1;32mIn[61], line 1\u001b[0m\n\u001b[1;32m----> 1\u001b[0m \u001b[38;5;28mprint\u001b[39m(unknown_seq)\n",
            "File \u001b[1;32m~\\anaconda3\\Lib\\site-packages\\Bio\\Seq.py:409\u001b[0m, in \u001b[0;36m_SeqAbstractBaseClass.__str__\u001b[1;34m(self)\u001b[0m\n\u001b[0;32m    407\u001b[0m \u001b[38;5;28;01mdef\u001b[39;00m \u001b[38;5;21m__str__\u001b[39m(\u001b[38;5;28mself\u001b[39m):\n\u001b[0;32m    408\u001b[0m \u001b[38;5;250m    \u001b[39m\u001b[38;5;124;03m\"\"\"Return the full sequence as a python string.\"\"\"\u001b[39;00m\n\u001b[1;32m--> 409\u001b[0m     \u001b[38;5;28;01mreturn\u001b[39;00m \u001b[38;5;28mself\u001b[39m\u001b[38;5;241m.\u001b[39m_data\u001b[38;5;241m.\u001b[39mdecode(\u001b[38;5;124m\"\u001b[39m\u001b[38;5;124mASCII\u001b[39m\u001b[38;5;124m\"\u001b[39m)\n",
            "File \u001b[1;32m~\\anaconda3\\Lib\\site-packages\\Bio\\Seq.py:157\u001b[0m, in \u001b[0;36mSequenceDataAbstractBaseClass.decode\u001b[1;34m(self, encoding)\u001b[0m\n\u001b[0;32m    151\u001b[0m \u001b[38;5;28;01mdef\u001b[39;00m \u001b[38;5;21mdecode\u001b[39m(\u001b[38;5;28mself\u001b[39m, encoding\u001b[38;5;241m=\u001b[39m\u001b[38;5;124m\"\u001b[39m\u001b[38;5;124mutf-8\u001b[39m\u001b[38;5;124m\"\u001b[39m):\n\u001b[0;32m    152\u001b[0m \u001b[38;5;250m    \u001b[39m\u001b[38;5;124;03m\"\"\"Decode the data as bytes using the codec registered for encoding.\u001b[39;00m\n\u001b[0;32m    153\u001b[0m \n\u001b[0;32m    154\u001b[0m \u001b[38;5;124;03m    encoding\u001b[39;00m\n\u001b[0;32m    155\u001b[0m \u001b[38;5;124;03m      The encoding with which to decode the bytes.\u001b[39;00m\n\u001b[0;32m    156\u001b[0m \u001b[38;5;124;03m    \"\"\"\u001b[39;00m\n\u001b[1;32m--> 157\u001b[0m     \u001b[38;5;28;01mreturn\u001b[39;00m \u001b[38;5;28mbytes\u001b[39m(\u001b[38;5;28mself\u001b[39m)\u001b[38;5;241m.\u001b[39mdecode(encoding)\n",
            "File \u001b[1;32m~\\anaconda3\\Lib\\site-packages\\Bio\\Seq.py:2391\u001b[0m, in \u001b[0;36m_UndefinedSequenceData.__bytes__\u001b[1;34m(self)\u001b[0m\n\u001b[0;32m   2390\u001b[0m \u001b[38;5;28;01mdef\u001b[39;00m \u001b[38;5;21m__bytes__\u001b[39m(\u001b[38;5;28mself\u001b[39m):\n\u001b[1;32m-> 2391\u001b[0m     \u001b[38;5;28;01mraise\u001b[39;00m UndefinedSequenceError(\u001b[38;5;124m\"\u001b[39m\u001b[38;5;124mSequence content is undefined\u001b[39m\u001b[38;5;124m\"\u001b[39m)\n",
            "\u001b[1;31mUndefinedSequenceError\u001b[0m: Sequence content is undefined"
          ]
        }
      ],
      "source": [
        " print(unknown_seq)"
      ]
    },
    {
      "cell_type": "code",
      "execution_count": null,
      "id": "c924b485-30e4-4d48-9c2f-2416a15bfce8",
      "metadata": {
        "tags": [],
        "id": "c924b485-30e4-4d48-9c2f-2416a15bfce8"
      },
      "outputs": [],
      "source": [
        "from Bio.Seq import Seq\n",
        "seq = Seq({117512683: \"TTGAAAACCTGAATGTGAGAGTCAGTCAAGGATAGT\"}, length=159345973)"
      ]
    },
    {
      "cell_type": "code",
      "execution_count": null,
      "id": "1dd358f1-a17b-4c65-a1c8-0f0ff9741dc5",
      "metadata": {
        "tags": [],
        "id": "1dd358f1-a17b-4c65-a1c8-0f0ff9741dc5",
        "outputId": "655a239f-d0fb-4660-f475-dbe3e5b56cfa"
      },
      "outputs": [
        {
          "data": {
            "text/plain": [
              "Seq(None, length=20)"
            ]
          },
          "execution_count": 63,
          "metadata": {},
          "output_type": "execute_result"
        }
      ],
      "source": [
        "seq[1000:1020]"
      ]
    },
    {
      "cell_type": "code",
      "execution_count": null,
      "id": "4adaa735-2dfc-4d24-801e-fe98c2b3168e",
      "metadata": {
        "tags": [],
        "id": "4adaa735-2dfc-4d24-801e-fe98c2b3168e",
        "outputId": "706f130e-91e3-4a38-b64f-1ebe1d6cf64c"
      },
      "outputs": [
        {
          "data": {
            "text/plain": [
              "Seq({13: 'TTGAAAA'}, length=20)"
            ]
          },
          "execution_count": 64,
          "metadata": {},
          "output_type": "execute_result"
        }
      ],
      "source": [
        "seq[117512670:117512690]"
      ]
    },
    {
      "cell_type": "code",
      "execution_count": null,
      "id": "ab891c29-0859-46da-af9a-72a05f324c1a",
      "metadata": {
        "tags": [],
        "id": "ab891c29-0859-46da-af9a-72a05f324c1a",
        "outputId": "9733fa42-f48b-4361-c1a3-b93e1de595f7"
      },
      "outputs": [
        {
          "data": {
            "text/plain": [
              "Seq({0: 'AGAGTCAGTCAAGGATAGT'}, length=41833273)"
            ]
          },
          "execution_count": 65,
          "metadata": {},
          "output_type": "execute_result"
        }
      ],
      "source": [
        "seq[117512700:]"
      ]
    },
    {
      "cell_type": "code",
      "execution_count": null,
      "id": "fc96a3a4-2b8a-4105-bee0-0f39006c721c",
      "metadata": {
        "tags": [],
        "id": "fc96a3a4-2b8a-4105-bee0-0f39006c721c",
        "outputId": "24605611-0525-4adf-cbca-2812624275f5"
      },
      "outputs": [
        {
          "data": {
            "text/plain": [
              "MutableSeq('GATCGATGGGCCTATATAGGATCGAAAATCGC')"
            ]
          },
          "execution_count": 66,
          "metadata": {},
          "output_type": "execute_result"
        }
      ],
      "source": [
        "from Bio.Seq import MutableSeq\n",
        "mutable_seq = MutableSeq(my_seq)\n",
        "mutable_seq"
      ]
    },
    {
      "cell_type": "code",
      "execution_count": null,
      "id": "1e3441e8-9a76-432b-bbc7-cfd81e313b80",
      "metadata": {
        "tags": [],
        "id": "1e3441e8-9a76-432b-bbc7-cfd81e313b80",
        "outputId": "f44726d0-3483-4c56-ea98-69089b9f022f"
      },
      "outputs": [
        {
          "data": {
            "text/plain": [
              "MutableSeq('GCCATCGTAATGGGCCGCTGAAAGGGTGCCCGA')"
            ]
          },
          "execution_count": 69,
          "metadata": {},
          "output_type": "execute_result"
        }
      ],
      "source": [
        "from Bio.Seq import MutableSeq\n",
        "mutable_seq = MutableSeq(\"GCCATTGTAATGGGCCGCTGAAAGGGTGCCCGA\")\n",
        "mutable_seq[5] = \"C\"\n",
        "mutable_seq"
      ]
    },
    {
      "cell_type": "code",
      "execution_count": null,
      "id": "4601e225-e6e3-41a3-b000-6b7426cb1f59",
      "metadata": {
        "tags": [],
        "id": "4601e225-e6e3-41a3-b000-6b7426cb1f59",
        "outputId": "2da7e60e-f836-4e5f-d159-0ad09ad0ff44"
      },
      "outputs": [
        {
          "data": {
            "text/plain": [
              "MutableSeq('GCCACGTAATGGGCCGCTGAAAGGGTGCCCGA')"
            ]
          },
          "execution_count": 70,
          "metadata": {},
          "output_type": "execute_result"
        }
      ],
      "source": [
        "mutable_seq.remove(\"T\")\n",
        "mutable_seq"
      ]
    },
    {
      "cell_type": "code",
      "execution_count": null,
      "id": "b6293d8d-c884-4c45-a33e-e5c2f4ec4afe",
      "metadata": {
        "tags": [],
        "id": "b6293d8d-c884-4c45-a33e-e5c2f4ec4afe",
        "outputId": "6972b91f-8045-434c-b0d0-391f53e2ea2e"
      },
      "outputs": [
        {
          "data": {
            "text/plain": [
              "9"
            ]
          },
          "execution_count": 71,
          "metadata": {},
          "output_type": "execute_result"
        }
      ],
      "source": [
        "from Bio.Seq import Seq, MutableSeq\n",
        "seq = Seq(\"GCCATTGTAATGGGCCGCTGAAAGGGTGCCCGA\")\n",
        "seq.index(\"ATGGGCCGC\")"
      ]
    },
    {
      "cell_type": "code",
      "execution_count": null,
      "id": "f91eeca7-4dfc-46e8-86c1-0cc39dc40956",
      "metadata": {
        "tags": [],
        "id": "f91eeca7-4dfc-46e8-86c1-0cc39dc40956",
        "outputId": "2c777d26-2016-4dba-d116-1098430d82c5"
      },
      "outputs": [
        {
          "data": {
            "text/plain": [
              "9"
            ]
          },
          "execution_count": 72,
          "metadata": {},
          "output_type": "execute_result"
        }
      ],
      "source": [
        "seq.index(b\"ATGGGCCGC\")"
      ]
    },
    {
      "cell_type": "code",
      "execution_count": null,
      "id": "55e340d5-1d8a-45c4-8f3f-00f0ddacaaaa",
      "metadata": {
        "tags": [],
        "id": "55e340d5-1d8a-45c4-8f3f-00f0ddacaaaa",
        "outputId": "52271ebd-3c26-47f0-9396-42d803604c45"
      },
      "outputs": [
        {
          "data": {
            "text/plain": [
              "9"
            ]
          },
          "execution_count": 73,
          "metadata": {},
          "output_type": "execute_result"
        }
      ],
      "source": [
        "seq.index(bytearray(b\"ATGGGCCGC\"))"
      ]
    },
    {
      "cell_type": "code",
      "execution_count": null,
      "id": "f11de3f5-c440-41c9-8fa9-aed26cc40d89",
      "metadata": {
        "tags": [],
        "id": "f11de3f5-c440-41c9-8fa9-aed26cc40d89",
        "outputId": "247ec02d-5287-4628-c405-4ae08576f2ca"
      },
      "outputs": [
        {
          "name": "stdout",
          "output_type": "stream",
          "text": [
            "1 CC\n",
            "11 GGG\n",
            "14 CC\n",
            "23 GGG\n",
            "28 CC\n",
            "29 CC\n"
          ]
        }
      ],
      "source": [
        "for index, sub in seq.search([\"CC\", \"GGG\", \"CC\"]):\n",
        "    print(index, sub)\n"
      ]
    },
    {
      "cell_type": "code",
      "execution_count": null,
      "id": "b09507ba-a636-414f-b197-ea6e90a1a39a",
      "metadata": {
        "tags": [],
        "id": "b09507ba-a636-414f-b197-ea6e90a1a39a",
        "outputId": "46e7326c-73d0-4da9-bd2b-dce077df8ebe"
      },
      "outputs": [
        {
          "data": {
            "text/plain": [
              "'CTAACCAGCAGCACGACCACCCTTCCAACGACCCATAACAGC'"
            ]
          },
          "execution_count": 75,
          "metadata": {},
          "output_type": "execute_result"
        }
      ],
      "source": [
        "from Bio.Seq import reverse_complement, transcribe, back_transcribe, translate\n",
        "my_string = \"GCTGTTATGGGTCGTTGGAAGGGTGGTCGTGCTGCTGGTTAG\"\n",
        "reverse_complement(my_string)"
      ]
    },
    {
      "cell_type": "code",
      "execution_count": null,
      "id": "4663424b-f087-45d2-96a6-8eb6f949d0eb",
      "metadata": {
        "tags": [],
        "id": "4663424b-f087-45d2-96a6-8eb6f949d0eb",
        "outputId": "46af0586-bc60-4015-907b-5c90fa2a26f3"
      },
      "outputs": [
        {
          "data": {
            "text/plain": [
              "'GCUGUUAUGGGUCGUUGGAAGGGUGGUCGUGCUGCUGGUUAG'"
            ]
          },
          "execution_count": 76,
          "metadata": {},
          "output_type": "execute_result"
        }
      ],
      "source": [
        "transcribe(my_string)"
      ]
    },
    {
      "cell_type": "code",
      "execution_count": null,
      "id": "4a0cc8a8-292f-44cc-b416-932ae66ae90a",
      "metadata": {
        "tags": [],
        "id": "4a0cc8a8-292f-44cc-b416-932ae66ae90a",
        "outputId": "a8b991c9-c6c9-473a-ccab-4061e3a1568d"
      },
      "outputs": [
        {
          "data": {
            "text/plain": [
              "'AVMGRWKGGRAAG*'"
            ]
          },
          "execution_count": 77,
          "metadata": {},
          "output_type": "execute_result"
        }
      ],
      "source": [
        "translate(my_string)"
      ]
    },
    {
      "cell_type": "code",
      "execution_count": null,
      "id": "2bf0da43-da56-4b5c-a967-90668096e96b",
      "metadata": {
        "tags": [],
        "id": "2bf0da43-da56-4b5c-a967-90668096e96b"
      },
      "outputs": [],
      "source": [
        "from Bio.Blast import NCBIWWW\n",
        "result_handle = NCBIWWW.qblast(\"blastn\", \"nt\", \"2765658\")"
      ]
    },
    {
      "cell_type": "code",
      "execution_count": null,
      "id": "17a2938d-8b47-4641-bd22-e232d3c53fa2",
      "metadata": {
        "tags": [],
        "id": "17a2938d-8b47-4641-bd22-e232d3c53fa2"
      },
      "outputs": [],
      "source": [
        "from Bio.Blast import NCBIXML\n",
        "blast_record = NCBIXML.read(result_handle)"
      ]
    },
    {
      "cell_type": "code",
      "execution_count": null,
      "id": "222c115c-3754-4da9-a857-ad7dba40dbaf",
      "metadata": {
        "tags": [],
        "id": "222c115c-3754-4da9-a857-ad7dba40dbaf"
      },
      "outputs": [],
      "source": [
        "from Bio.Blast import NCBIXML\n",
        "blast_records = NCBIXML.parse(result_handle)"
      ]
    },
    {
      "cell_type": "code",
      "execution_count": null,
      "id": "3339d021-8435-481e-a5d0-797518b87217",
      "metadata": {
        "jupyter": {
          "outputs_hidden": true
        },
        "tags": [],
        "id": "3339d021-8435-481e-a5d0-797518b87217",
        "outputId": "85d26a9d-ab34-4adf-8464-a3345a9b2c0c"
      },
      "outputs": [
        {
          "name": "stdout",
          "output_type": "stream",
          "text": [
            "****Alignment****\n",
            "sequence: gi|2765658|emb|Z78533.1| C.irapeanum 5.8S rRNA gene and ITS1 and ITS2 DNA\n",
            "length: 740\n",
            "e value: 0.0\n",
            "CGTAACAAGGTTTCCGTAGGTGAACCTGCGGAAGGATCATTGATGAGACCGTGGAATAAACGATCGAGTGAATCC...\n",
            "|||||||||||||||||||||||||||||||||||||||||||||||||||||||||||||||||||||||||||...\n",
            "CGTAACAAGGTTTCCGTAGGTGAACCTGCGGAAGGATCATTGATGAGACCGTGGAATAAACGATCGAGTGAATCC...\n",
            "****Alignment****\n",
            "sequence: gi|751868575|gb|KJ939539.1| Cypripedium irapeanum voucher Szlachetko s.n. 18S ribosomal RNA gene, partial sequence; internal transcribed spacer 1, 5.8S ribosomal RNA gene, and internal transcribed spacer 2, complete sequence; and 28S ribosomal RNA gene, partial sequence\n",
            "length: 745\n",
            "e value: 0.0\n",
            "CGTAACAAGGTTTCCGTAGGTGAACCTGCGGAAGGATCATTGATGAGACCGTGGAATAAACGATCGAGTGAATCC...\n",
            "|||||||||||||||||||||||||||||||||||||||||| ||||||||||||||| ||||||||||||||||...\n",
            "CGTAACAAGGTTTCCGTAGGTGAACCTGCGGAAGGATCATTGTTGAGACCGTGGAATATACGATCGAGTGAATCC...\n",
            "****Alignment****\n",
            "sequence: gi|347626748|emb|FR720328.1| Cypripedium irapeanum ITS1, 5.8S rRNA gene, ITS2 and 26S rRNA gene (partial), specimen voucher MEXU Salazar 7234\n",
            "length: 723\n",
            "e value: 0.0\n",
            "TTTCCGTAGGTGAACCTGCGGAAGGATCATTGATGAGACCGTGGAATAAACGATCGAGTGAATCCGGAGGACCGG...\n",
            "|||||||||||||||||||||||||||||||| ||||||||||||||| ||||||||||||||||||||||||||...\n",
            "TTTCCGTAGGTGAACCTGCGGAAGGATCATTGTTGAGACCGTGGAATATACGATCGAGTGAATCCGGAGGACCGG...\n",
            "****Alignment****\n",
            "sequence: gi|347626747|emb|FR720327.1| Cypripedium molle ITS1, 5.8S rRNA gene, ITS2 and 26S rRNA gene (partial), specimen voucher MEXU Salazar 6883\n",
            "length: 723\n",
            "e value: 0.0\n",
            "TTTCCGTAGGTGAACCTGCGGAAGGATCATTGATGAGACCGTGGAATAAACGATCGAGTGAATCCGGAGGACCGG...\n",
            "|||||||||||||||||||||||||||||||| ||||||||||||||| ||||||||||||||||||||||||||...\n",
            "TTTCCGTAGGTGAACCTGCGGAAGGATCATTGTTGAGACCGTGGAATATACGATCGAGTGAATCCGGAGGACCGG...\n",
            "****Alignment****\n",
            "sequence: gi|751868574|gb|KJ939538.1| Cypripedium dickinsonianum voucher Szlachetko s.n. 18S ribosomal RNA gene, partial sequence; internal transcribed spacer 1, 5.8S ribosomal RNA gene, and internal transcribed spacer 2, complete sequence; and 28S ribosomal RNA gene, partial sequence\n",
            "length: 760\n",
            "e value: 0.0\n",
            "CGTAACAAGGTTTCCGTAGGTGAACCTGCGGAAGGATCATTGATGAGACCGTGGAATAAACGATCGAGTGAATCC...\n",
            "|||||||||||||||||||||||||||||||||||||||||| |||||||| |||||| ||||||||||||||||...\n",
            "CGTAACAAGGTTTCCGTAGGTGAACCTGCGGAAGGATCATTGTTGAGACCGCGGAATATACGATCGAGTGAATCC...\n",
            "****Alignment****\n",
            "sequence: gi|402502938|gb|JQ660885.1| Cypripedium dickinsonianum 18S ribosomal RNA gene, partial sequence; and internal transcribed spacer 1, 5.8S ribosomal RNA gene, and internal transcribed spacer 2, complete sequence\n",
            "length: 708\n",
            "e value: 0.0\n",
            "CGTAACAAGGTTTCCGTAGGTGAACCTGCGGAAGGATCATTGATGAGACCGTGGAATAAACGATCGAGTGAATCC...\n",
            "|||||||||||||||||||||||||||||||||||||||||| |||||||| |||||| ||||||||||||||||...\n",
            "CGTAACAAGGTTTCCGTAGGTGAACCTGCGGAAGGATCATTGTTGAGACCGCGGAATATACGATCGAGTGAATCC...\n",
            "****Alignment****\n",
            "sequence: gi|2765653|emb|Z78528.1| C.plectrochilum 5.8S rRNA gene and ITS1 and ITS2 DNA\n",
            "length: 754\n",
            "e value: 0.0\n",
            "CGTAACAAGGTTTCCGTAGGTGAACCTGCGGAAGGATCATTGATGAGACCGTGGAATAAACGATCGAGTGAATCC...\n",
            "|||||||||||||||||||||||||||||||||||||||||| |||||| |   |||||||||| ||||||||||...\n",
            "CGTAACAAGGTTTCCGTAGGTGAACCTGCGGAAGGATCATTGTTGAGACAGCATAATAAACGATTGAGTGAATCC...\n",
            "****Alignment****\n",
            "sequence: gi|340742827|gb|JN018077.1| Cypripedium plectrochilum 18S ribosomal RNA gene, partial sequence; internal transcribed spacer 1, 5.8S ribosomal RNA gene, and internal transcribed spacer 2, complete sequence; and 26S ribosomal RNA gene, partial sequence\n",
            "length: 754\n",
            "e value: 0.0\n",
            "AACAAGGTTTCCGTAGGTGAACCTGCGGAAGGATCATTGATGAGACCGTGGAATAAACGATCGAGTGAATCCGGA...\n",
            "||||||||||||||||||||||||||||||||||||||| |||||| |   |||||||||| |||||||||||||...\n",
            "AACAAGGTTTCCGTAGGTGAACCTGCGGAAGGATCATTGTTGAGACAGCATAATAAACGATTGAGTGAATCCGGA...\n",
            "****Alignment****\n",
            "sequence: gi|350999033|gb|JF796899.1| Cypripedium arietinum internal transcribed spacer 1, partial sequence; 5.8S ribosomal RNA gene, complete sequence; and internal transcribed spacer 2, partial sequence\n",
            "length: 720\n",
            "e value: 0.0\n",
            "CGTAACAAGGTTTCCGTAGGTGAACCTGCGGAAGGATCATTGATGAGACCGTGGAATAAACGATCGAGTGAATCC...\n",
            "|||||||||||||||||||||||||||||||||||||||||| |||||| ||| |||| ||||| ||||||||||...\n",
            "CGTAACAAGGTTTCCGTAGGTGAACCTGCGGAAGGATCATTGTTGAGACAGTGCAATATACGATTGAGTGAATCC...\n",
            "****Alignment****\n",
            "sequence: gi|380005818|gb|JQ004993.1| Cypripedium plectrochilum internal transcribed spacer 1, partial sequence; 5.8S ribosomal RNA gene, complete sequence; and internal transcribed spacer 2, partial sequence\n",
            "length: 763\n",
            "e value: 0.0\n",
            "TCCGTAGGTGAACCTGCGGAAGGATCATTGATGAGACCGTGGAATAAACGATCGAGTGAATCCGGAGGACCGGTG...\n",
            "|||||||||||||||||||||||||||||| |||||| |   |||| ||||| |||||||||||||||||| |||...\n",
            "TCCGTAGGTGAACCTGCGGAAGGATCATTGTTGAGACAGCATAATATACGATTGAGTGAATCCGGAGGACCTGTG...\n",
            "****Alignment****\n",
            "sequence: gi|2765656|emb|Z78531.1| C.fasciculatum 5.8S rRNA gene and ITS1 and ITS2 DNA\n",
            "length: 748\n",
            "e value: 0.0\n",
            "CGTAACAAGGTTTCCGTAGGTGAACCTGCGGAAGGATCATTGATGAGACCGTGGAATAAACGATCGAGTGAATCC...\n",
            "|||||||||||||||||||||||||||||||||||||||||| |||||| |  ||| | ||||||||||||||||...\n",
            "CGTAACAAGGTTTCCGTAGGTGAACCTGCGGAAGGATCATTGTTGAGACAGCAGAACATACGATCGAGTGAATCC...\n",
            "****Alignment****\n",
            "sequence: gi|751868570|gb|KJ939534.1| Cypripedium subtropicum voucher Szlachetko s.n. 18S ribosomal RNA gene, partial sequence; internal transcribed spacer 1, 5.8S ribosomal RNA gene, and internal transcribed spacer 2, complete sequence; and 28S ribosomal RNA gene, partial sequence\n",
            "length: 772\n",
            "e value: 2.13065e-180\n",
            "CGTAACAAGGTTTCCGTAGGTGAACCTGCGGAAGGATCATTGATGAGACCGTGGAATAAACGATCGAGTGAATCC...\n",
            "|||||||||||||||||||||||||||||||||||||||||| ||||||||   |||| | |||||||| |||||...\n",
            "CGTAACAAGGTTTCCGTAGGTGAACCTGCGGAAGGATCATTGTTGAGACCGCATAATATATGATCGAGTAAATCC...\n",
            "****Alignment****\n",
            "sequence: gi|350999061|gb|JF796927.1| Cypripedium fasciculatum internal transcribed spacer 1, partial sequence; 5.8S ribosomal RNA gene, complete sequence; and internal transcribed spacer 2, partial sequence\n",
            "length: 724\n",
            "e value: 2.59567e-179\n",
            "CGTAACAAGGTTTCCGTAGGTGAACCTGCGGAAGGATCATTGATGAGACCGTGGAATAAACGATCGAGTGAATCC...\n",
            "|||||||||||||||||||||||||||||||||||||||||| |||||| |  ||| | ||||||||||||||||...\n",
            "CGTAACAAGGTTTCCGTAGGTGAACCTGCGGAAGGATCATTGTTGAGACAGCAGAACATACGATCGAGTGAATCC...\n",
            "****Alignment****\n",
            "sequence: gi|350999058|gb|JF796924.1| Cypripedium wardii internal transcribed spacer 1, partial sequence; 5.8S ribosomal RNA gene, complete sequence; and internal transcribed spacer 2, partial sequence\n",
            "length: 726\n",
            "e value: 3.16217e-178\n",
            "CGTAACAAGGTTTCCGTAGGTGAACCTGCGGAAGGATCATTGATGAGACCGTGGAATAAACGATCGAGTGAATCC...\n",
            "|||||||||||||||||||||||||||||||||||||||||| ||||||||   |  | ||||||||||||||||...\n",
            "CGTAACAAGGTTTCCGTAGGTGAACCTGCGGAAGGATCATTGTTGAGACCGCATACAATACGATCGAGTGAATCC...\n",
            "****Alignment****\n",
            "sequence: gi|2765645|emb|Z78520.1| C.segawai 5.8S rRNA gene and ITS1 and ITS2 DNA\n",
            "length: 753\n",
            "e value: 1.10371e-177\n",
            "CGTAACAAGGTTTCCGTAGGTGAACCTGCGGAAGGATCATTGATGAGACCGTGGAATAAACGATCGAGTGAATCC...\n",
            "|||||||||||||||||||||||||||||||||||||||||| |||||| |  ||||| | ||||||||||||||...\n",
            "CGTAACAAGGTTTCCGTAGGTGAACCTGCGGAAGGATCATTGTTGAGACAGCAGAATATATGATCGAGTGAATCC...\n",
            "****Alignment****\n",
            "sequence: gi|1382343100|gb|MH250186.1| Cypripedium calceolus isolate R2 small subunit ribosomal RNA gene, partial sequence; internal transcribed spacer 1, 5.8S ribosomal RNA gene, and internal transcribed spacer 2, complete sequence; and large subunit ribosomal RNA gene, partial sequence\n",
            "length: 784\n",
            "e value: 1.10371e-177\n",
            "CGTAACAAGGTTTCCGTAGGTGAACCTGCGGAAGGATCATTGATGAGACCGTGGAATAAACGATCGAGTGAATCC...\n",
            "|||||||||||||||||||||||||||||||||||||||||| |||||| |  ||||| | ||||||||||||||...\n",
            "CGTAACAAGGTTTCCGTAGGTGAACCTGCGGAAGGATCATTGTTGAGACAGCAGAATATATGATCGAGTGAATCC...\n",
            "****Alignment****\n",
            "sequence: gi|1434743038|gb|MF543769.1| Cypripedium calceolus voucher CYCAOL02-210813 small subunit ribosomal RNA gene, partial sequence; internal transcribed spacer 1, 5.8S ribosomal RNA gene, and internal transcribed spacer 2, complete sequence; and large subunit ribosomal RNA gene, partial sequence\n",
            "length: 850\n",
            "e value: 1.10371e-177\n",
            "CGTAACAAGGTTTCCGTAGGTGAACCTGCGGAAGGATCATTGATGAGACCGTGGAATAAACGATCGAGTGAATCC...\n",
            "|||||||||||||||||||||||||||||||||||||||||| |||||| |  ||||| | ||||||||||||||...\n",
            "CGTAACAAGGTTTCCGTAGGTGAACCTGCGGAAGGATCATTGTTGAGACAGCAGAATATATGATCGAGTGAATCC...\n",
            "****Alignment****\n",
            "sequence: gi|751868566|gb|KJ939530.1| Cypripedium macranthos voucher Szlachetko s.n. 18S ribosomal RNA gene, partial sequence; internal transcribed spacer 1, 5.8S ribosomal RNA gene, and internal transcribed spacer 2, complete sequence; and 28S ribosomal RNA gene, partial sequence\n",
            "length: 766\n",
            "e value: 1.10371e-177\n",
            "CGTAACAAGGTTTCCGTAGGTGAACCTGCGGAAGGATCATTGATGAGACCGTGGAATAAACGATCGAGTGAATCC...\n",
            "|||||||||||||||||||||||||||||||||||||||||| |||||| |  ||||| | ||||||||||||||...\n",
            "CGTAACAAGGTTTCCGTAGGTGAACCTGCGGAAGGATCATTGTTGAGACAGCAGAATATATGATCGAGTGAATCC...\n",
            "****Alignment****\n",
            "sequence: gi|1382343101|gb|MH250187.1| Cypripedium calceolus isolate R3 small subunit ribosomal RNA gene, partial sequence; internal transcribed spacer 1, 5.8S ribosomal RNA gene, and internal transcribed spacer 2, complete sequence; and large subunit ribosomal RNA gene, partial sequence\n",
            "length: 819\n",
            "e value: 1.34459e-176\n",
            "CGTAACAAGGTTTCCGTAGGTGAACCTGCGGAAGGATCATTGATGAGACCGTGGAATAAACGATCGAGTGAATCC...\n",
            "|||||||||||||||||||||||||||||||||||||||||| |||||| |  ||||| | ||||||||||||||...\n",
            "CGTAACAAGGTTTCCGTAGGTGAACCTGCGGAAGGATCATTGTTGAGACAGCAGAATATATGATCGAGTGAATCC...\n",
            "****Alignment****\n",
            "sequence: gi|1434743037|gb|MF543768.1| Cypripedium calceolus voucher CYCACM06-010813 small subunit ribosomal RNA gene, partial sequence; internal transcribed spacer 1, 5.8S ribosomal RNA gene, and internal transcribed spacer 2, complete sequence; and large subunit ribosomal RNA gene, partial sequence\n",
            "length: 851\n",
            "e value: 1.34459e-176\n",
            "CGTAACAAGGTTTCCGTAGGTGAACCTGCGGAAGGATCATTGATGAGACCGTGGAATAAACGATCGAGTGAATCC...\n",
            "|||||||||||||||||||||||||||||||||||||||||| |||||| |  ||||| | ||||||||||||||...\n",
            "CGTAACAAGGTTTCCGTAGGTGAACCTGCGGAAGGATCATTGTTGAGACAGCAGAATATATGATCGAGTGAATCC...\n",
            "****Alignment****\n",
            "sequence: gi|751868569|gb|KJ939533.1| Cypripedium farreri voucher Szlachetko s.n. 18S ribosomal RNA gene, partial sequence; internal transcribed spacer 1, 5.8S ribosomal RNA gene, and internal transcribed spacer 2, complete sequence; and 28S ribosomal RNA gene, partial sequence\n",
            "length: 766\n",
            "e value: 1.34459e-176\n",
            "CGTAACAAGGTTTCCGTAGGTGAACCTGCGGAAGGATCATTGATGAGACCGTGGAATAAACGATCGAGTGAATCC...\n",
            "|||||||||||||||||||||||||||||||||||||||||| |||||| |  ||||| | ||||||||||||||...\n",
            "CGTAACAAGGTTTCCGTAGGTGAACCTGCGGAAGGATCATTGTTGAGACAGCAGAATATATGATCGAGTGAATCC...\n",
            "****Alignment****\n",
            "sequence: gi|49425161|gb|AY557232.1| Cypripedium calceolus 18S ribosomal RNA gene, partial sequence; internal transcribed spacer 1, 5.8S ribosomal RNA gene, and internal transcribed spacer 2, complete sequence; and 26S ribosomal RNA gene, partial sequence\n",
            "length: 983\n",
            "e value: 1.34459e-176\n",
            "CGTAACAAGGTTTCCGTAGGTGAACCTGCGGAAGGATCATTGATGAGACCGTGGAATAAACGATCGAGTGAATCC...\n",
            "|||||||||||||||||||||||||||||||||||||||||| |||||| |  ||||| | ||||||||||||||...\n",
            "CGTAACAAGGTTTCCGTAGGTGAACCTGCGGAAGGATCATTGTTGAGACAGCAGAATATATGATCGAGTGAATCC...\n",
            "****Alignment****\n",
            "sequence: gi|1382343099|gb|MH250185.1| Cypripedium calceolus isolate R1 small subunit ribosomal RNA gene, partial sequence; internal transcribed spacer 1, 5.8S ribosomal RNA gene, and internal transcribed spacer 2, complete sequence; and large subunit ribosomal RNA gene, partial sequence\n",
            "length: 814\n",
            "e value: 4.69308e-176\n",
            "CGTAACAAGGTTTCCGTAGGTGAACCTGCGGAAGGATCATTGATGAGACCGTGGAATAAACGATCGAGTGAATCC...\n",
            "|||||||||||||||||||||||||||||||||||||||||| |||||| |  ||||| | ||||||||||||||...\n",
            "CGTAACAAGGTTTCCGTAGGTGAACCTGCGGAAGGATCATTGTTGAGACAGCAGAATATATGATCGAGTGAATCC...\n",
            "****Alignment****\n",
            "sequence: gi|1434743039|gb|MF543770.1| Cypripedium calceolus voucher CYCACM03-230687 small subunit ribosomal RNA gene, partial sequence; internal transcribed spacer 1, 5.8S ribosomal RNA gene, and internal transcribed spacer 2, complete sequence; and large subunit ribosomal RNA gene, partial sequence\n",
            "length: 816\n",
            "e value: 4.69308e-176\n",
            "CGTAACAAGGTTTCCGTAGGTGAACCTGCGGAAGGATCATTGATGAGACCGTGGAATAAACGATCGAGTGAATCC...\n",
            "|||||||||||||||||||||||||||||||||||||||||| |||||| |  ||||| | ||||||||||||||...\n",
            "CGTAACAAGGTTTCCGTAGGTGAACCTGCGGAAGGATCATTGTTGAGACAGCAGAATATATGATCGAGTGAATCC...\n",
            "****Alignment****\n",
            "sequence: gi|1434743036|gb|MF543767.1| Cypripedium calceolus voucher CYCACM04-050714 small subunit ribosomal RNA gene, partial sequence; internal transcribed spacer 1, 5.8S ribosomal RNA gene, and internal transcribed spacer 2, complete sequence; and large subunit ribosomal RNA gene, partial sequence\n",
            "length: 847\n",
            "e value: 4.69308e-176\n",
            "CGTAACAAGGTTTCCGTAGGTGAACCTGCGGAAGGATCATTGATGAGACCGTGGAATAAACGATCGAGTGAATCC...\n",
            "|||||||||||||||||||||||||||||||||||||||||| |||||| |  ||||| | ||||||||||||||...\n",
            "CGTAACAAGGTTTCCGTAGGTGAACCTGCGGAAGGATCATTGTTGAGACAGCAGAATATATGATCGAGTGAATCC...\n",
            "****Alignment****\n",
            "sequence: gi|751868571|gb|KJ939535.1| Cypripedium tibeticum voucher Szlachetko s.n. 18S ribosomal RNA gene, partial sequence; internal transcribed spacer 1, 5.8S ribosomal RNA gene, and internal transcribed spacer 2, complete sequence; and 28S ribosomal RNA gene, partial sequence\n",
            "length: 766\n",
            "e value: 4.69308e-176\n",
            "CGTAACAAGGTTTCCGTAGGTGAACCTGCGGAAGGATCATTGATGAGACCGTGGAATAAACGATCGAGTGAATCC...\n",
            "|||||||||||||||||||||||||||||||||||||||||| |||||| |  ||||| | ||||||||||||||...\n",
            "CGTAACAAGGTTTCCGTAGGTGAACCTGCGGAAGGATCATTGTTGAGACAGCAGAATATATGATCGAGTGAATCC...\n",
            "****Alignment****\n",
            "sequence: gi|350999051|gb|JF796917.1| Cypripedium reginae f. albolabium internal transcribed spacer 1, partial sequence; 5.8S ribosomal RNA gene, complete sequence; and internal transcribed spacer 2, partial sequence\n",
            "length: 724\n",
            "e value: 5.71734e-175\n",
            "CGTAACAAGGTTTCCGTAGGTGAACCTGCGGAAGGATCATTGATGAGACCGTGGAATAAACGATCGAGTGAATCC...\n",
            "|||||||||||||||||||||||||||||||||||||||||| |||||  || |||||  ||||||||||||| |...\n",
            "CGTAACAAGGTTTCCGTAGGTGAACCTGCGGAAGGATCATTGTTGAGATAGTAGAATATTCGATCGAGTGAATTC...\n",
            "****Alignment****\n",
            "sequence: gi|751868568|gb|KJ939532.1| Cypripedium calcicola voucher Szlachetko s.n. 18S ribosomal RNA gene, partial sequence; internal transcribed spacer 1, 5.8S ribosomal RNA gene, and internal transcribed spacer 2, complete sequence; and 28S ribosomal RNA gene, partial sequence\n",
            "length: 766\n",
            "e value: 5.71734e-175\n",
            "CGTAACAAGGTTTCCGTAGGTGAACCTGCGGAAGGATCATTGATGAGACCGTGGAATAAACGATCGAGTGAATCC...\n",
            "|||||||||||||||||||||||||||||||||||||||||| |||||| |  ||||| | ||||||||||||||...\n",
            "CGTAACAAGGTTTCCGTAGGTGAACCTGCGGAAGGATCATTGTTGAGACAGCAGAATATATGATCGAGTGAATCC...\n",
            "****Alignment****\n",
            "sequence: gi|751868572|gb|KJ939536.1| Cypripedium franchetii voucher Szlachetko s.n. 18S ribosomal RNA gene, partial sequence; internal transcribed spacer 1, 5.8S ribosomal RNA gene, and internal transcribed spacer 2, complete sequence; and 28S ribosomal RNA gene, partial sequence\n",
            "length: 766\n",
            "e value: 2.43107e-173\n",
            "CGTAACAAGGTTTCCGTAGGTGAACCTGCGGAAGGATCATTGATGAGACCGTGGAATAAACGATCGAGTGAATCC...\n",
            "|||||||||||||||||||||||||||||||||||||||||| |||||| |  ||||| | ||||||||||||||...\n",
            "CGTAACAAGGTTTCCGTAGGTGAACCTGCGGAAGGATCATTGTTGAGACAGCAGAATATATGATCGAGTGAATCC...\n",
            "****Alignment****\n",
            "sequence: gi|340742828|gb|JN018078.1| Cypripedium calcicola 18S ribosomal RNA gene, partial sequence; internal transcribed spacer 1, 5.8S ribosomal RNA gene, and internal transcribed spacer 2, complete sequence; and 26S ribosomal RNA gene, partial sequence\n",
            "length: 756\n",
            "e value: 2.43107e-173\n",
            "AACAAGGTTTCCGTAGGTGAACCTGCGGAAGGATCATTGATGAGACCGTGGAATAAACGATCGAGTGAATCCGGA...\n",
            "||||||||||||||||||||||||||||||||||||||| |||||| |  ||||| | |||||||||||||||| ...\n",
            "AACAAGGTTTCCGTAGGTGAACCTGCGGAAGGATCATTGTTGAGACAGCAGAATATATGATCGAGTGAATCCGGT...\n",
            "****Alignment****\n",
            "sequence: gi|380005815|gb|JQ004990.1| Cypripedium fasciolatum internal transcribed spacer 1, partial sequence; 5.8S ribosomal RNA gene, complete sequence; and internal transcribed spacer 2, partial sequence\n",
            "length: 762\n",
            "e value: 2.96165e-172\n",
            "TCCGTAGGTGAACCTGCGGAAGGATCATTGATGAGACCGTGGAATAAACGATCGAGTGAATCCGGAGGACCGGTG...\n",
            "|||||||||||||||||||||||||||||| |||||| |  ||||| | |||||||||||||||| ||||  |||...\n",
            "TCCGTAGGTGAACCTGCGGAAGGATCATTGTTGAGACAGCAGAATATATGATCGAGTGAATCCGGTGGACTTGTG...\n",
            "****Alignment****\n",
            "sequence: gi|380005812|gb|JQ004987.1| Cypripedium henryi internal transcribed spacer 1, partial sequence; 5.8S ribosomal RNA gene, complete sequence; and internal transcribed spacer 2, partial sequence\n",
            "length: 762\n",
            "e value: 2.96165e-172\n",
            "TCCGTAGGTGAACCTGCGGAAGGATCATTGATGAGACCGTGGAATAAACGATCGAGTGAATCCGGAGGACCGGTG...\n",
            "|||||||||||||||||||||||||||||| |||||| |  ||||| | |||||||||||||||| ||||  |||...\n",
            "TCCGTAGGTGAACCTGCGGAAGGATCATTGTTGAGACAGCAGAATATATGATCGAGTGAATCCGGTGGACTTGTG...\n",
            "****Alignment****\n",
            "sequence: gi|340742821|gb|JN018071.1| Cypripedium calceolus 18S ribosomal RNA gene, partial sequence; internal transcribed spacer 1, 5.8S ribosomal RNA gene, and internal transcribed spacer 2, complete sequence; and 26S ribosomal RNA gene, partial sequence\n",
            "length: 756\n",
            "e value: 3.60803e-171\n",
            "AACAAGGTTTCCGTAGGTGAACCTGCGGAAGGATCATTGATGAGACCGTGGAATAAACGATCGAGTGAATCCGGA...\n",
            "|||||||||||| |||||||||||||||||||||||||| |||||| |  ||||| | |||||||||||||||| ...\n",
            "AACAAGGTTTCC-TAGGTGAACCTGCGGAAGGATCATTGTTGAGACAGCAGAATATATGATCGAGTGAATCCGGT...\n",
            "****Alignment****\n",
            "sequence: gi|350999030|gb|JF796896.1| Cypripedium subtropicum internal transcribed spacer 1, partial sequence; 5.8S ribosomal RNA gene, complete sequence; and internal transcribed spacer 2, partial sequence >gi|350999031|gb|JF796897.1| Cypripedium singchii internal transcribed spacer 1, partial sequence; 5.8S ribosomal RNA gene, complete sequence; and internal transcribed spacer 2, partial sequence\n",
            "length: 731\n",
            "e value: 1.25933e-170\n",
            "CGTAACAAGGTTTCCGTAGGTGAACCTGCGGAAGGATCATTGATGAGACCGTGGAATAAACGATCGAGTGAATCC...\n",
            "|||||||||||||||||||||||||||||||||||||||||| ||||||||   |||| | |||||||| |||||...\n",
            "CGTAACAAGGTTTCCGTAGGTGAACCTGCGGAAGGATCATTGTTGAGACCGCATAATATATGATCGAGTAAATCC...\n",
            "****Alignment****\n",
            "sequence: gi|380005817|gb|JQ004992.1| Cypripedium tibeticum internal transcribed spacer 1, partial sequence; 5.8S ribosomal RNA gene, complete sequence; and internal transcribed spacer 2, partial sequence\n",
            "length: 762\n",
            "e value: 1.53417e-169\n",
            "TCCGTAGGTGAACCTGCGGAAGGATCATTGATGAGACCGTGGAATAAACGATCGAGTGAATCCGGAGGACCGGTG...\n",
            "|||||||||||||||||||||||||||||| |||||| |  ||||| | |||||||||||||||| ||||  |||...\n",
            "TCCGTAGGTGAACCTGCGGAAGGATCATTGTTGAGACAGCAGAATATATGATCGAGTGAATCCGGTGGACTTGTG...\n",
            "****Alignment****\n",
            "sequence: gi|380005814|gb|JQ004989.1| Cypripedium yunnanense internal transcribed spacer 1, partial sequence; 5.8S ribosomal RNA gene, complete sequence; and internal transcribed spacer 2, partial sequence\n",
            "length: 762\n",
            "e value: 1.53417e-169\n",
            "TCCGTAGGTGAACCTGCGGAAGGATCATTGATGAGACCGTGGAATAAACGATCGAGTGAATCCGGAGGACCGGTG...\n",
            "|||||||||||||||||||||||||||||| |||||| |  ||||| | |||||||||||||||| ||||  |||...\n",
            "TCCGTAGGTGAACCTGCGGAAGGATCATTGTTGAGACAGCAGAATATATGATCGAGTGAATCCGGTGGACTTGTG...\n",
            "****Alignment****\n",
            "sequence: gi|2030163935|gb|MZ044290.1| Cypripedium calceolus isolate AJK-2 small subunit ribosomal RNA gene, partial sequence; internal transcribed spacer 1, 5.8S ribosomal RNA gene, and internal transcribed spacer 2, complete sequence; and large subunit ribosomal RNA gene, partial sequence\n",
            "length: 740\n",
            "e value: 5.3548e-169\n",
            "TAGGTGAACCTGCGGAAGGATCATTGATGAGACCGTGGAATAAACGATCGAGTGAATCCGGAGGACCGGTG--TA...\n",
            "|||||||||||||||||||||||||| |||||| |  ||||| | |||||||||||||||| ||||  |||  ||...\n",
            "TAGGTGAACCTGCGGAAGGATCATTGTTGAGACAGCAGAATATATGATCGAGTGAATCCGGTGGACTTGTGGTTA...\n",
            "****Alignment****\n",
            "sequence: gi|2011261287|gb|MW785559.1| Cypripedium calceolus isolate Slupiec 2 small subunit ribosomal RNA gene, partial sequence; internal transcribed spacer 1, 5.8S ribosomal RNA gene, and internal transcribed spacer 2, complete sequence; and large subunit ribosomal RNA gene, partial sequence\n",
            "length: 740\n",
            "e value: 5.3548e-169\n",
            "TAGGTGAACCTGCGGAAGGATCATTGATGAGACCGTGGAATAAACGATCGAGTGAATCCGGAGGACCGGTG--TA...\n",
            "|||||||||||||||||||||||||| |||||| |  ||||| | |||||||||||||||| ||||  |||  ||...\n",
            "TAGGTGAACCTGCGGAAGGATCATTGTTGAGACAGCAGAATATATGATCGAGTGAATCCGGTGGACTTGTGGTTA...\n",
            "****Alignment****\n",
            "sequence: gi|380005820|gb|JQ004995.1| Cypripedium franchetii internal transcribed spacer 1, partial sequence; 5.8S ribosomal RNA gene, complete sequence; and internal transcribed spacer 2, partial sequence\n",
            "length: 762\n",
            "e value: 1.86901e-168\n",
            "TCCGTAGGTGAACCTGCGGAAGGATCATTGATGAGACCGTGGAATAAACGATCGAGTGAATCCGGAGGACCGGTG...\n",
            "|||||||||||||||||||||||||||||| |||||| |  ||||| | |||||||||||||||| ||||  |||...\n",
            "TCCGTAGGTGAACCTGCGGAAGGATCATTGTTGAGACAGCAGAATATATGATCGAGTGAATCCGGTGGACTTGTG...\n",
            "****Alignment****\n",
            "sequence: gi|2030163946|gb|MZ044301.1| Cypripedium calceolus isolate AJK-10.2 small subunit ribosomal RNA gene, partial sequence; internal transcribed spacer 1, 5.8S ribosomal RNA gene, and internal transcribed spacer 2, complete sequence; and large subunit ribosomal RNA gene, partial sequence\n",
            "length: 740\n",
            "e value: 6.52348e-168\n",
            "TAGGTGAACCTGCGGAAGGATCATTGATGAGACCGTGGAATAAACGATCGAGTGAATCCGGAGGACCGGTG--TA...\n",
            "|||||||||||||||||||||||||| |||||| |  ||||| | |||||||||||||||| ||||  |||  ||...\n",
            "TAGGTGAACCTGCGGAAGGATCATTGTTGAGACAGCAGAATATATGATCGAGTGAATCCGGTGGACTTGTGGTTA...\n",
            "****Alignment****\n",
            "sequence: gi|2030163941|gb|MZ044296.1| Cypripedium calceolus isolate AJK-6 small subunit ribosomal RNA gene, partial sequence; internal transcribed spacer 1, 5.8S ribosomal RNA gene, and internal transcribed spacer 2, complete sequence; and large subunit ribosomal RNA gene, partial sequence\n",
            "length: 740\n",
            "e value: 6.52348e-168\n",
            "TAGGTGAACCTGCGGAAGGATCATTGATGAGACCGTGGAATAAACGATCGAGTGAATCCGGAGGACCGGTG--TA...\n",
            "|||||||||||||||||||||||||| |||||| |  ||||| | |||||||||||||||| ||||  |||  ||...\n",
            "TAGGTGAACCTGCGGAAGGATCATTGTTGAGACAGCAGAATATATGATCGAGTGAATCCGGTGGACTTGTGGTTA...\n",
            "****Alignment****\n",
            "sequence: gi|2030163940|gb|MZ044295.1| Cypripedium calceolus isolate AJK-5b small subunit ribosomal RNA gene, partial sequence; internal transcribed spacer 1, 5.8S ribosomal RNA gene, and internal transcribed spacer 2, complete sequence; and large subunit ribosomal RNA gene, partial sequence\n",
            "length: 740\n",
            "e value: 6.52348e-168\n",
            "TAGGTGAACCTGCGGAAGGATCATTGATGAGACCGTGGAATAAACGATCGAGTGAATCCGGAGGACCGGTG--TA...\n",
            "|||||||||||||||||||||||||| |||||| |  ||||| | |||||||||||||||| ||||  |||  ||...\n",
            "TAGGTGAACCTGCGGAAGGATCATTGTTGAGACAGCAGAATATATGATCGAGTGAATCCGGTGGACTTGTGGTTA...\n",
            "****Alignment****\n",
            "sequence: gi|2030163939|gb|MZ044294.1| Cypripedium calceolus isolate AJK-5a small subunit ribosomal RNA gene, partial sequence; internal transcribed spacer 1, 5.8S ribosomal RNA gene, and internal transcribed spacer 2, complete sequence; and large subunit ribosomal RNA gene, partial sequence\n",
            "length: 740\n",
            "e value: 6.52348e-168\n",
            "TAGGTGAACCTGCGGAAGGATCATTGATGAGACCGTGGAATAAACGATCGAGTGAATCCGGAGGACCGGTG--TA...\n",
            "|||||||||||||||||||||||||| |||||| |  ||||| | |||||||||||||||| ||||  |||  ||...\n",
            "TAGGTGAACCTGCGGAAGGATCATTGTTGAGACAGCAGAATATATGATCGAGTGAATCCGGTGGACTTGTGGTTA...\n",
            "****Alignment****\n",
            "sequence: gi|2030163938|gb|MZ044293.1| Cypripedium calceolus isolate AJK-3 small subunit ribosomal RNA gene, partial sequence; internal transcribed spacer 1, 5.8S ribosomal RNA gene, and internal transcribed spacer 2, complete sequence; and large subunit ribosomal RNA gene, partial sequence\n",
            "length: 740\n",
            "e value: 6.52348e-168\n",
            "TAGGTGAACCTGCGGAAGGATCATTGATGAGACCGTGGAATAAACGATCGAGTGAATCCGGAGGACCGGTG--TA...\n",
            "|||||||||||||||||||||||||| |||||| |  ||||| | |||||||||||||||| ||||  |||  ||...\n",
            "TAGGTGAACCTGCGGAAGGATCATTGTTGAGACAGCAGAATATATGATCGAGTGAATCCGGTGGACTTGTGGTTA...\n",
            "****Alignment****\n",
            "sequence: gi|2030163937|gb|MZ044292.1| Cypripedium calceolus isolate AJK-1 small subunit ribosomal RNA gene, partial sequence; internal transcribed spacer 1, 5.8S ribosomal RNA gene, and internal transcribed spacer 2, complete sequence; and large subunit ribosomal RNA gene, partial sequence\n",
            "length: 740\n",
            "e value: 6.52348e-168\n",
            "TAGGTGAACCTGCGGAAGGATCATTGATGAGACCGTGGAATAAACGATCGAGTGAATCCGGAGGACCGGTG--TA...\n",
            "|||||||||||||||||||||||||| |||||| |  ||||| | |||||||||||||||| ||||  |||  ||...\n",
            "TAGGTGAACCTGCGGAAGGATCATTGTTGAGACAGCAGAATATATGATCGAGTGAATCCGGTGGACTTGTGGTTA...\n",
            "****Alignment****\n",
            "sequence: gi|2030163945|gb|MZ044300.1| Cypripedium calceolus isolate AJK-10.3 small subunit ribosomal RNA gene, partial sequence; internal transcribed spacer 1, 5.8S ribosomal RNA gene, and internal transcribed spacer 2, complete sequence; and large subunit ribosomal RNA gene, partial sequence\n",
            "length: 740\n",
            "e value: 2.27692e-167\n",
            "TAGGTGAACCTGCGGAAGGATCATTGATGAGACCGTGGAATAAACGATCGAGTGAATCCGGAGGACCGGTG--TA...\n",
            "|||||||||||||||||||||||||| |||||| |  ||||| | |||||||||||||||| ||||  |||  ||...\n",
            "TAGGTGAACCTGCGGAAGGATCATTGTTGAGACAGCAGAATATATGATCGAGTGAATCCGGTGGACTTGTGGTTA...\n",
            "****Alignment****\n",
            "sequence: gi|2030163944|gb|MZ044299.1| Cypripedium calceolus isolate AJK-10.1 small subunit ribosomal RNA gene, partial sequence; internal transcribed spacer 1, 5.8S ribosomal RNA gene, and internal transcribed spacer 2, complete sequence; and large subunit ribosomal RNA gene, partial sequence\n",
            "length: 740\n",
            "e value: 2.27692e-167\n",
            "TAGGTGAACCTGCGGAAGGATCATTGATGAGACCGTGGAATAAACGATCGAGTGAATCCGGAGGACCGGTG--TA...\n",
            "|||||||||||||||||||||||||| |||||| |  ||||| | |||||||||||||||| ||||  |||  ||...\n",
            "TAGGTGAACCTGCGGAAGGATCATTGTTGAGACAGCAGAATATATGATCGAGTGAATCCGGTGGACTTGTGGTTA...\n",
            "****Alignment****\n",
            "sequence: gi|2030163943|gb|MZ044298.1| Cypripedium calceolus isolate AJK-9 small subunit ribosomal RNA gene, partial sequence; internal transcribed spacer 1, 5.8S ribosomal RNA gene, and internal transcribed spacer 2, complete sequence; and large subunit ribosomal RNA gene, partial sequence\n",
            "length: 740\n",
            "e value: 2.27692e-167\n",
            "TAGGTGAACCTGCGGAAGGATCATTGATGAGACCGTGGAATAAACGATCGAGTGAATCCGGAGGACCGGTG--TA...\n",
            "|||||||||||||||||||||||||| |||||| |  ||||| | |||||||||||||||| ||||  |||  ||...\n",
            "TAGGTGAACCTGCGGAAGGATCATTGTTGAGACAGCAGAATATATGATCGAGTGAATCCGGTGGACTTGTGGTTA...\n",
            "****Alignment****\n",
            "sequence: gi|2030163942|gb|MZ044297.1| Cypripedium calceolus isolate AJK-8 small subunit ribosomal RNA gene, partial sequence; internal transcribed spacer 1, 5.8S ribosomal RNA gene, and internal transcribed spacer 2, complete sequence; and large subunit ribosomal RNA gene, partial sequence\n",
            "length: 740\n",
            "e value: 2.27692e-167\n",
            "TAGGTGAACCTGCGGAAGGATCATTGATGAGACCGTGGAATAAACGATCGAGTGAATCCGGAGGACCGGTG--TA...\n",
            "|||||||||||||||||||||||||| |||||| |  ||||| | |||||||||||||||| ||||  |||  ||...\n",
            "TAGGTGAACCTGCGGAAGGATCATTGTTGAGACAGCAGAATATATGATCGAGTGAATCCGGTGGACTTGTGGTTA...\n",
            "****Alignment****\n",
            "sequence: gi|2030163936|gb|MZ044291.1| Cypripedium calceolus isolate AJK-7 small subunit ribosomal RNA gene, partial sequence; internal transcribed spacer 1, 5.8S ribosomal RNA gene, and internal transcribed spacer 2, complete sequence; and large subunit ribosomal RNA gene, partial sequence\n",
            "length: 740\n",
            "e value: 2.27692e-167\n",
            "TAGGTGAACCTGCGGAAGGATCATTGATGAGACCGTGGAATAAACGATCGAGTGAATCCGGAGGACCGGTG--TA...\n",
            "|||||||||||||||||||||||||| |||||| |  ||||| | |||||||||||||||| ||||  |||  ||...\n",
            "TAGGTGAACCTGCGGAAGGATCATTGTTGAGACAGCAGAATATATGATCGAGTGAATCCGGTGGACTTGTGGTTA...\n"
          ]
        }
      ],
      "source": [
        "E_VALUE_THRESH = 0.04\n",
        "for alignment in blast_record.alignments:\n",
        "    for hsp in alignment.hsps:\n",
        "        if hsp.expect < E_VALUE_THRESH:\n",
        "            print(\"****Alignment****\")\n",
        "            print(\"sequence:\", alignment.title)\n",
        "            print(\"length:\", alignment.length)\n",
        "            print(\"e value:\", hsp.expect)\n",
        "            print(hsp.query[0:75] + \"...\")\n",
        "            print(hsp.match[0:75] + \"...\")\n",
        "            print(hsp.sbjct[0:75] + \"...\")"
      ]
    },
    {
      "cell_type": "code",
      "execution_count": null,
      "id": "6a581a2a-d0f6-42b8-b350-3ca72c843e06",
      "metadata": {
        "jupyter": {
          "outputs_hidden": true
        },
        "tags": [],
        "id": "6a581a2a-d0f6-42b8-b350-3ca72c843e06",
        "outputId": "c4dffa20-9689-473f-9179-32c01c7e2f09"
      },
      "outputs": [
        {
          "name": "stdout",
          "output_type": "stream",
          "text": [
            "****Alignment****\n",
            "sequence: gi|2765658|emb|Z78533.1| C.irapeanum 5.8S rRNA gene and ITS1 and ITS2 DNA\n",
            "length: 740\n",
            "e value: 0.0\n",
            "CGTAACAAGGTTTCCGTAGGTGAACCTGCGGAAGGATCATTGATGAGACCGTGGAATAAACGATCGAGTGAATCCGGAGGACCGGTGTACTCAGCTCACC...\n",
            "||||||||||||||||||||||||||||||||||||||||||||||||||||||||||||||||||||||||||||||||||||||||||||||||||||...\n",
            "CGTAACAAGGTTTCCGTAGGTGAACCTGCGGAAGGATCATTGATGAGACCGTGGAATAAACGATCGAGTGAATCCGGAGGACCGGTGTACTCAGCTCACC...\n",
            "****Alignment****\n",
            "sequence: gi|751868575|gb|KJ939539.1| Cypripedium irapeanum voucher Szlachetko s.n. 18S ribosomal RNA gene, partial sequence; internal transcribed spacer 1, 5.8S ribosomal RNA gene, and internal transcribed spacer 2, complete sequence; and 28S ribosomal RNA gene, partial sequence\n",
            "length: 745\n",
            "e value: 0.0\n",
            "CGTAACAAGGTTTCCGTAGGTGAACCTGCGGAAGGATCATTGATGAGACCGTGGAATAAACGATCGAGTGAATCCGGAGGACCGGTGTACTCAGCTCACC...\n",
            "|||||||||||||||||||||||||||||||||||||||||| ||||||||||||||| |||||||||||||||||||||||||||||||||||||| ||...\n",
            "CGTAACAAGGTTTCCGTAGGTGAACCTGCGGAAGGATCATTGTTGAGACCGTGGAATATACGATCGAGTGAATCCGGAGGACCGGTGTACTCAGCTCGCC...\n",
            "****Alignment****\n",
            "sequence: gi|347626748|emb|FR720328.1| Cypripedium irapeanum ITS1, 5.8S rRNA gene, ITS2 and 26S rRNA gene (partial), specimen voucher MEXU Salazar 7234\n",
            "length: 723\n",
            "e value: 0.0\n",
            "TTTCCGTAGGTGAACCTGCGGAAGGATCATTGATGAGACCGTGGAATAAACGATCGAGTGAATCCGGAGGACCGGTGTACTCAGCTCACCGGGGGCATTG...\n",
            "|||||||||||||||||||||||||||||||| ||||||||||||||| |||||||||||||||||||||||||||||||||||||| ||||||||||||...\n",
            "TTTCCGTAGGTGAACCTGCGGAAGGATCATTGTTGAGACCGTGGAATATACGATCGAGTGAATCCGGAGGACCGGTGTACTCAGCTCGCCGGGGGCATTG...\n",
            "****Alignment****\n",
            "sequence: gi|347626747|emb|FR720327.1| Cypripedium molle ITS1, 5.8S rRNA gene, ITS2 and 26S rRNA gene (partial), specimen voucher MEXU Salazar 6883\n",
            "length: 723\n",
            "e value: 0.0\n",
            "TTTCCGTAGGTGAACCTGCGGAAGGATCATTGATGAGACCGTGGAATAAACGATCGAGTGAATCCGGAGGACCGGTGTACTCAGCTCACCGGGGGCATTG...\n",
            "|||||||||||||||||||||||||||||||| ||||||||||||||| |||||||||||||||||||||||||||||||||||||| ||||||||||||...\n",
            "TTTCCGTAGGTGAACCTGCGGAAGGATCATTGTTGAGACCGTGGAATATACGATCGAGTGAATCCGGAGGACCGGTGTACTCAGCTCGCCGGGGGCATTG...\n",
            "****Alignment****\n",
            "sequence: gi|751868574|gb|KJ939538.1| Cypripedium dickinsonianum voucher Szlachetko s.n. 18S ribosomal RNA gene, partial sequence; internal transcribed spacer 1, 5.8S ribosomal RNA gene, and internal transcribed spacer 2, complete sequence; and 28S ribosomal RNA gene, partial sequence\n",
            "length: 760\n",
            "e value: 0.0\n",
            "CGTAACAAGGTTTCCGTAGGTGAACCTGCGGAAGGATCATTGATGAGACCGTGGAATAAACGATCGAGTGAATCCGGAGGACCGGTGTACTCAGCTCACC...\n",
            "|||||||||||||||||||||||||||||||||||||||||| |||||||| |||||| |||||||||||||||||||||||||||||||||||||| ||...\n",
            "CGTAACAAGGTTTCCGTAGGTGAACCTGCGGAAGGATCATTGTTGAGACCGCGGAATATACGATCGAGTGAATCCGGAGGACCGGTGTACTCAGCTCGCC...\n",
            "****Alignment****\n",
            "sequence: gi|402502938|gb|JQ660885.1| Cypripedium dickinsonianum 18S ribosomal RNA gene, partial sequence; and internal transcribed spacer 1, 5.8S ribosomal RNA gene, and internal transcribed spacer 2, complete sequence\n",
            "length: 708\n",
            "e value: 0.0\n",
            "CGTAACAAGGTTTCCGTAGGTGAACCTGCGGAAGGATCATTGATGAGACCGTGGAATAAACGATCGAGTGAATCCGGAGGACCGGTGTACTCAGCTCACC...\n",
            "|||||||||||||||||||||||||||||||||||||||||| |||||||| |||||| |||||||||||||||||||||||||||||||||||||| ||...\n",
            "CGTAACAAGGTTTCCGTAGGTGAACCTGCGGAAGGATCATTGTTGAGACCGCGGAATATACGATCGAGTGAATCCGGAGGACCGGTGTACTCAGCTCGCC...\n",
            "****Alignment****\n",
            "sequence: gi|2765653|emb|Z78528.1| C.plectrochilum 5.8S rRNA gene and ITS1 and ITS2 DNA\n",
            "length: 754\n",
            "e value: 0.0\n",
            "CGTAACAAGGTTTCCGTAGGTGAACCTGCGGAAGGATCATTGATGAGACCGTGGAATAAACGATCGAGTGAATCCGGAGGACCGGTG--TACTCAGCTCA...\n",
            "|||||||||||||||||||||||||||||||||||||||||| |||||| |   |||||||||| |||||||||||||||||| |||  ||||| |||| ...\n",
            "CGTAACAAGGTTTCCGTAGGTGAACCTGCGGAAGGATCATTGTTGAGACAGCATAATAAACGATTGAGTGAATCCGGAGGACCTGTGGCTACTCGGCTCG...\n",
            "****Alignment****\n",
            "sequence: gi|340742827|gb|JN018077.1| Cypripedium plectrochilum 18S ribosomal RNA gene, partial sequence; internal transcribed spacer 1, 5.8S ribosomal RNA gene, and internal transcribed spacer 2, complete sequence; and 26S ribosomal RNA gene, partial sequence\n",
            "length: 754\n",
            "e value: 0.0\n",
            "AACAAGGTTTCCGTAGGTGAACCTGCGGAAGGATCATTGATGAGACCGTGGAATAAACGATCGAGTGAATCCGGAGGACCGGTG--TACTCAGCTCACCG...\n",
            "||||||||||||||||||||||||||||||||||||||| |||||| |   |||||||||| |||||||||||||||||| |||  ||||| |||| |  ...\n",
            "AACAAGGTTTCCGTAGGTGAACCTGCGGAAGGATCATTGTTGAGACAGCATAATAAACGATTGAGTGAATCCGGAGGACCTGTGGCTACTCGGCTCGCTA...\n",
            "****Alignment****\n",
            "sequence: gi|350999033|gb|JF796899.1| Cypripedium arietinum internal transcribed spacer 1, partial sequence; 5.8S ribosomal RNA gene, complete sequence; and internal transcribed spacer 2, partial sequence\n",
            "length: 720\n",
            "e value: 0.0\n",
            "CGTAACAAGGTTTCCGTAGGTGAACCTGCGGAAGGATCATTGATGAGACCGTGGAATAAACGATCGAGTGAATCCGGAGGACCGGTG--TACTCAGCTCA...\n",
            "|||||||||||||||||||||||||||||||||||||||||| |||||| ||| |||| ||||| |||||||||||||||||| |||  ||||| |||| ...\n",
            "CGTAACAAGGTTTCCGTAGGTGAACCTGCGGAAGGATCATTGTTGAGACAGTGCAATATACGATTGAGTGAATCCGGAGGACCTGTGATTACTCGGCTCG...\n",
            "****Alignment****\n",
            "sequence: gi|380005818|gb|JQ004993.1| Cypripedium plectrochilum internal transcribed spacer 1, partial sequence; 5.8S ribosomal RNA gene, complete sequence; and internal transcribed spacer 2, partial sequence\n",
            "length: 763\n",
            "e value: 0.0\n",
            "TCCGTAGGTGAACCTGCGGAAGGATCATTGATGAGACCGTGGAATAAACGATCGAGTGAATCCGGAGGACCGGTG--TACTCAGCTCACCGGGGGCATTG...\n",
            "|||||||||||||||||||||||||||||| |||||| |   |||| ||||| |||||||||||||||||| |||  ||||| |||| |  | |   |||...\n",
            "TCCGTAGGTGAACCTGCGGAAGGATCATTGTTGAGACAGCATAATATACGATTGAGTGAATCCGGAGGACCTGTGGCTACTCGGCTCGCTAGTGAT-TTG...\n",
            "****Alignment****\n",
            "sequence: gi|2765656|emb|Z78531.1| C.fasciculatum 5.8S rRNA gene and ITS1 and ITS2 DNA\n",
            "length: 748\n",
            "e value: 0.0\n",
            "CGTAACAAGGTTTCCGTAGGTGAACCTGCGGAAGGATCATTGATGAGACCGTGGAATAAACGATCGAGTGAATCCGGAGGACCGGTG--TACTCAGCTCA...\n",
            "|||||||||||||||||||||||||||||||||||||||||| |||||| |  ||| | |||||||||||||||||||||||| |||  ||| | |||||...\n",
            "CGTAACAAGGTTTCCGTAGGTGAACCTGCGGAAGGATCATTGTTGAGACAGCAGAACATACGATCGAGTGAATCCGGAGGACCCGTGGTTACACGGCTCA...\n",
            "****Alignment****\n",
            "sequence: gi|751868570|gb|KJ939534.1| Cypripedium subtropicum voucher Szlachetko s.n. 18S ribosomal RNA gene, partial sequence; internal transcribed spacer 1, 5.8S ribosomal RNA gene, and internal transcribed spacer 2, complete sequence; and 28S ribosomal RNA gene, partial sequence\n",
            "length: 772\n",
            "e value: 2.13065e-180\n",
            "CGTAACAAGGTTTCCGTAGGTGAACCTGCGGAAGGATCATTGATGAGACCGTGGAATAAACGATCGAGTGAATCCGGAGGACCGGTG--TACTCAGCTCA...\n",
            "|||||||||||||||||||||||||||||||||||||||||| ||||||||   |||| | |||||||| ||||| ||||||| |||  ||||| |||| ...\n",
            "CGTAACAAGGTTTCCGTAGGTGAACCTGCGGAAGGATCATTGTTGAGACCGCATAATATATGATCGAGTAAATCCAGAGGACCTGTGGTTACTCGGCTCG...\n",
            "****Alignment****\n",
            "sequence: gi|350999061|gb|JF796927.1| Cypripedium fasciculatum internal transcribed spacer 1, partial sequence; 5.8S ribosomal RNA gene, complete sequence; and internal transcribed spacer 2, partial sequence\n",
            "length: 724\n",
            "e value: 2.59567e-179\n",
            "CGTAACAAGGTTTCCGTAGGTGAACCTGCGGAAGGATCATTGATGAGACCGTGGAATAAACGATCGAGTGAATCCGGAGGACCGGTG--TACTCAGCTCA...\n",
            "|||||||||||||||||||||||||||||||||||||||||| |||||| |  ||| | |||||||||||||||||||||||| |||  ||| | |||||...\n",
            "CGTAACAAGGTTTCCGTAGGTGAACCTGCGGAAGGATCATTGTTGAGACAGCAGAACATACGATCGAGTGAATCCGGAGGACCCGTGGTTACACGGCTCA...\n",
            "****Alignment****\n",
            "sequence: gi|350999058|gb|JF796924.1| Cypripedium wardii internal transcribed spacer 1, partial sequence; 5.8S ribosomal RNA gene, complete sequence; and internal transcribed spacer 2, partial sequence\n",
            "length: 726\n",
            "e value: 3.16217e-178\n",
            "CGTAACAAGGTTTCCGTAGGTGAACCTGCGGAAGGATCATTGATGAGACCGTGGAATAAACGATCGAGTGAATCCGGAGGACCGGTG--TACTCAGCTCA...\n",
            "|||||||||||||||||||||||||||||||||||||||||| ||||||||   |  | |||||||||||||||| ||||||| |||  ||||| |||| ...\n",
            "CGTAACAAGGTTTCCGTAGGTGAACCTGCGGAAGGATCATTGTTGAGACCGCATACAATACGATCGAGTGAATCCAGAGGACCTGTGGTTACTCGGCTCG...\n",
            "****Alignment****\n",
            "sequence: gi|2765645|emb|Z78520.1| C.segawai 5.8S rRNA gene and ITS1 and ITS2 DNA\n",
            "length: 753\n",
            "e value: 1.10371e-177\n",
            "CGTAACAAGGTTTCCGTAGGTGAACCTGCGGAAGGATCATTGATGAGACCGTGGAATAAACGATCGAGTGAATCCGGAGGACCGGTG--TACTCAGCTCA...\n",
            "|||||||||||||||||||||||||||||||||||||||||| |||||| |  ||||| | |||||||||||||||| ||||  |||  |||||||||| ...\n",
            "CGTAACAAGGTTTCCGTAGGTGAACCTGCGGAAGGATCATTGTTGAGACAGCAGAATATATGATCGAGTGAATCCGGTGGACTTGTGGTTACTCAGCTCG...\n",
            "****Alignment****\n",
            "sequence: gi|1382343100|gb|MH250186.1| Cypripedium calceolus isolate R2 small subunit ribosomal RNA gene, partial sequence; internal transcribed spacer 1, 5.8S ribosomal RNA gene, and internal transcribed spacer 2, complete sequence; and large subunit ribosomal RNA gene, partial sequence\n",
            "length: 784\n",
            "e value: 1.10371e-177\n",
            "CGTAACAAGGTTTCCGTAGGTGAACCTGCGGAAGGATCATTGATGAGACCGTGGAATAAACGATCGAGTGAATCCGGAGGACCGGTG--TACTCAGCTCA...\n",
            "|||||||||||||||||||||||||||||||||||||||||| |||||| |  ||||| | |||||||||||||||| ||||  |||  |||||||||| ...\n",
            "CGTAACAAGGTTTCCGTAGGTGAACCTGCGGAAGGATCATTGTTGAGACAGCAGAATATATGATCGAGTGAATCCGGTGGACTTGTGGTTACTCAGCTCG...\n",
            "****Alignment****\n",
            "sequence: gi|1434743038|gb|MF543769.1| Cypripedium calceolus voucher CYCAOL02-210813 small subunit ribosomal RNA gene, partial sequence; internal transcribed spacer 1, 5.8S ribosomal RNA gene, and internal transcribed spacer 2, complete sequence; and large subunit ribosomal RNA gene, partial sequence\n",
            "length: 850\n",
            "e value: 1.10371e-177\n",
            "CGTAACAAGGTTTCCGTAGGTGAACCTGCGGAAGGATCATTGATGAGACCGTGGAATAAACGATCGAGTGAATCCGGAGGACCGGTG--TACTCAGCTCA...\n",
            "|||||||||||||||||||||||||||||||||||||||||| |||||| |  ||||| | |||||||||||||||| ||||  |||  |||||||||| ...\n",
            "CGTAACAAGGTTTCCGTAGGTGAACCTGCGGAAGGATCATTGTTGAGACAGCAGAATATATGATCGAGTGAATCCGGTGGACTTGTGGTTACTCAGCTCG...\n",
            "****Alignment****\n",
            "sequence: gi|751868566|gb|KJ939530.1| Cypripedium macranthos voucher Szlachetko s.n. 18S ribosomal RNA gene, partial sequence; internal transcribed spacer 1, 5.8S ribosomal RNA gene, and internal transcribed spacer 2, complete sequence; and 28S ribosomal RNA gene, partial sequence\n",
            "length: 766\n",
            "e value: 1.10371e-177\n",
            "CGTAACAAGGTTTCCGTAGGTGAACCTGCGGAAGGATCATTGATGAGACCGTGGAATAAACGATCGAGTGAATCCGGAGGACCGGTG--TACTCAGCTCA...\n",
            "|||||||||||||||||||||||||||||||||||||||||| |||||| |  ||||| | |||||||||||||||| ||||  |||  |||||||||| ...\n",
            "CGTAACAAGGTTTCCGTAGGTGAACCTGCGGAAGGATCATTGTTGAGACAGCAGAATATATGATCGAGTGAATCCGGTGGACTTGTGGTTACTCAGCTCG...\n",
            "****Alignment****\n",
            "sequence: gi|1382343101|gb|MH250187.1| Cypripedium calceolus isolate R3 small subunit ribosomal RNA gene, partial sequence; internal transcribed spacer 1, 5.8S ribosomal RNA gene, and internal transcribed spacer 2, complete sequence; and large subunit ribosomal RNA gene, partial sequence\n",
            "length: 819\n",
            "e value: 1.34459e-176\n",
            "CGTAACAAGGTTTCCGTAGGTGAACCTGCGGAAGGATCATTGATGAGACCGTGGAATAAACGATCGAGTGAATCCGGAGGACCGGTG--TACTCAGCTCA...\n",
            "|||||||||||||||||||||||||||||||||||||||||| |||||| |  ||||| | |||||||||||||||| ||||  |||  |||||||||| ...\n",
            "CGTAACAAGGTTTCCGTAGGTGAACCTGCGGAAGGATCATTGTTGAGACAGCAGAATATATGATCGAGTGAATCCGGTGGACTTGTGGTTACTCAGCTCG...\n",
            "****Alignment****\n",
            "sequence: gi|1434743037|gb|MF543768.1| Cypripedium calceolus voucher CYCACM06-010813 small subunit ribosomal RNA gene, partial sequence; internal transcribed spacer 1, 5.8S ribosomal RNA gene, and internal transcribed spacer 2, complete sequence; and large subunit ribosomal RNA gene, partial sequence\n",
            "length: 851\n",
            "e value: 1.34459e-176\n",
            "CGTAACAAGGTTTCCGTAGGTGAACCTGCGGAAGGATCATTGATGAGACCGTGGAATAAACGATCGAGTGAATCCGGAGGACCGGTG--TACTCAGCTCA...\n",
            "|||||||||||||||||||||||||||||||||||||||||| |||||| |  ||||| | |||||||||||||||| ||||  |||  |||||||||| ...\n",
            "CGTAACAAGGTTTCCGTAGGTGAACCTGCGGAAGGATCATTGTTGAGACAGCAGAATATATGATCGAGTGAATCCGGTGGACTTGTGGTTACTCAGCTCG...\n",
            "****Alignment****\n",
            "sequence: gi|751868569|gb|KJ939533.1| Cypripedium farreri voucher Szlachetko s.n. 18S ribosomal RNA gene, partial sequence; internal transcribed spacer 1, 5.8S ribosomal RNA gene, and internal transcribed spacer 2, complete sequence; and 28S ribosomal RNA gene, partial sequence\n",
            "length: 766\n",
            "e value: 1.34459e-176\n",
            "CGTAACAAGGTTTCCGTAGGTGAACCTGCGGAAGGATCATTGATGAGACCGTGGAATAAACGATCGAGTGAATCCGGAGGACCGGTG--TACTCAGCTCA...\n",
            "|||||||||||||||||||||||||||||||||||||||||| |||||| |  ||||| | |||||||||||||||| ||||  |||  |||||||||||...\n",
            "CGTAACAAGGTTTCCGTAGGTGAACCTGCGGAAGGATCATTGTTGAGACAGCAGAATATATGATCGAGTGAATCCGGTGGACTTGTGGTTACTCAGCTCA...\n",
            "****Alignment****\n",
            "sequence: gi|49425161|gb|AY557232.1| Cypripedium calceolus 18S ribosomal RNA gene, partial sequence; internal transcribed spacer 1, 5.8S ribosomal RNA gene, and internal transcribed spacer 2, complete sequence; and 26S ribosomal RNA gene, partial sequence\n",
            "length: 983\n",
            "e value: 1.34459e-176\n",
            "CGTAACAAGGTTTCCGTAGGTGAACCTGCGGAAGGATCATTGATGAGACCGTGGAATAAACGATCGAGTGAATCCGGAGGACCGGTG--TACTCAGCTCA...\n",
            "|||||||||||||||||||||||||||||||||||||||||| |||||| |  ||||| | |||||||||||||||| ||||  |||  |||||||||| ...\n",
            "CGTAACAAGGTTTCCGTAGGTGAACCTGCGGAAGGATCATTGTTGAGACAGCAGAATATATGATCGAGTGAATCCGGTGGACTTGTGGTTACTCAGCTCG...\n",
            "****Alignment****\n",
            "sequence: gi|1382343099|gb|MH250185.1| Cypripedium calceolus isolate R1 small subunit ribosomal RNA gene, partial sequence; internal transcribed spacer 1, 5.8S ribosomal RNA gene, and internal transcribed spacer 2, complete sequence; and large subunit ribosomal RNA gene, partial sequence\n",
            "length: 814\n",
            "e value: 4.69308e-176\n",
            "CGTAACAAGGTTTCCGTAGGTGAACCTGCGGAAGGATCATTGATGAGACCGTGGAATAAACGATCGAGTGAATCCGGAGGACCGGTG--TACTCAGCTCA...\n",
            "|||||||||||||||||||||||||||||||||||||||||| |||||| |  ||||| | |||||||||||||||| ||||  |||  |||||||||| ...\n",
            "CGTAACAAGGTTTCCGTAGGTGAACCTGCGGAAGGATCATTGTTGAGACAGCAGAATATATGATCGAGTGAATCCGGTGGACTTGTGGTTACTCAGCTCG...\n",
            "****Alignment****\n",
            "sequence: gi|1434743039|gb|MF543770.1| Cypripedium calceolus voucher CYCACM03-230687 small subunit ribosomal RNA gene, partial sequence; internal transcribed spacer 1, 5.8S ribosomal RNA gene, and internal transcribed spacer 2, complete sequence; and large subunit ribosomal RNA gene, partial sequence\n",
            "length: 816\n",
            "e value: 4.69308e-176\n",
            "CGTAACAAGGTTTCCGTAGGTGAACCTGCGGAAGGATCATTGATGAGACCGTGGAATAAACGATCGAGTGAATCCGGAGGACCGGTG--TACTCAGCTCA...\n",
            "|||||||||||||||||||||||||||||||||||||||||| |||||| |  ||||| | |||||||||||||||| ||||  |||  |||||||||| ...\n",
            "CGTAACAAGGTTTCCGTAGGTGAACCTGCGGAAGGATCATTGTTGAGACAGCAGAATATATGATCGAGTGAATCCGGTGGACTTGTGGTTACTCAGCTCG...\n",
            "****Alignment****\n",
            "sequence: gi|1434743036|gb|MF543767.1| Cypripedium calceolus voucher CYCACM04-050714 small subunit ribosomal RNA gene, partial sequence; internal transcribed spacer 1, 5.8S ribosomal RNA gene, and internal transcribed spacer 2, complete sequence; and large subunit ribosomal RNA gene, partial sequence\n",
            "length: 847\n",
            "e value: 4.69308e-176\n",
            "CGTAACAAGGTTTCCGTAGGTGAACCTGCGGAAGGATCATTGATGAGACCGTGGAATAAACGATCGAGTGAATCCGGAGGACCGGTG--TACTCAGCTCA...\n",
            "|||||||||||||||||||||||||||||||||||||||||| |||||| |  ||||| | |||||||||||||||| ||||  |||  |||||||||| ...\n",
            "CGTAACAAGGTTTCCGTAGGTGAACCTGCGGAAGGATCATTGTTGAGACAGCAGAATATATGATCGAGTGAATCCGGTGGACTTGTGGTTACTCAGCTCG...\n",
            "****Alignment****\n",
            "sequence: gi|751868571|gb|KJ939535.1| Cypripedium tibeticum voucher Szlachetko s.n. 18S ribosomal RNA gene, partial sequence; internal transcribed spacer 1, 5.8S ribosomal RNA gene, and internal transcribed spacer 2, complete sequence; and 28S ribosomal RNA gene, partial sequence\n",
            "length: 766\n",
            "e value: 4.69308e-176\n",
            "CGTAACAAGGTTTCCGTAGGTGAACCTGCGGAAGGATCATTGATGAGACCGTGGAATAAACGATCGAGTGAATCCGGAGGACCGGTG--TACTCAGCTCA...\n",
            "|||||||||||||||||||||||||||||||||||||||||| |||||| |  ||||| | |||||||||||||||| ||||  |||  |||||||||||...\n",
            "CGTAACAAGGTTTCCGTAGGTGAACCTGCGGAAGGATCATTGTTGAGACAGCAGAATATATGATCGAGTGAATCCGGTGGACTTGTGGTTACTCAGCTCA...\n",
            "****Alignment****\n",
            "sequence: gi|350999051|gb|JF796917.1| Cypripedium reginae f. albolabium internal transcribed spacer 1, partial sequence; 5.8S ribosomal RNA gene, complete sequence; and internal transcribed spacer 2, partial sequence\n",
            "length: 724\n",
            "e value: 5.71734e-175\n",
            "CGTAACAAGGTTTCCGTAGGTGAACCTGCGGAAGGATCATTGATGAGACCGTGGAATAAACGATCGAGTGAATCCGGAGGACCGGTG--TACTCAGCTCA...\n",
            "|||||||||||||||||||||||||||||||||||||||||| |||||  || |||||  ||||||||||||| ||||||||  |||  ||||| |||| ...\n",
            "CGTAACAAGGTTTCCGTAGGTGAACCTGCGGAAGGATCATTGTTGAGATAGTAGAATATTCGATCGAGTGAATTCGGAGGACTTGTGGTTACTCGGCTCG...\n",
            "****Alignment****\n",
            "sequence: gi|751868568|gb|KJ939532.1| Cypripedium calcicola voucher Szlachetko s.n. 18S ribosomal RNA gene, partial sequence; internal transcribed spacer 1, 5.8S ribosomal RNA gene, and internal transcribed spacer 2, complete sequence; and 28S ribosomal RNA gene, partial sequence\n",
            "length: 766\n",
            "e value: 5.71734e-175\n",
            "CGTAACAAGGTTTCCGTAGGTGAACCTGCGGAAGGATCATTGATGAGACCGTGGAATAAACGATCGAGTGAATCCGGAGGACCGGTG--TACTCAGCTCA...\n",
            "|||||||||||||||||||||||||||||||||||||||||| |||||| |  ||||| | |||||||||||||||| ||||  |||  |||||||||||...\n",
            "CGTAACAAGGTTTCCGTAGGTGAACCTGCGGAAGGATCATTGTTGAGACAGCAGAATATATGATCGAGTGAATCCGGTGGACTTGTGGTTACTCAGCTCA...\n",
            "****Alignment****\n",
            "sequence: gi|751868572|gb|KJ939536.1| Cypripedium franchetii voucher Szlachetko s.n. 18S ribosomal RNA gene, partial sequence; internal transcribed spacer 1, 5.8S ribosomal RNA gene, and internal transcribed spacer 2, complete sequence; and 28S ribosomal RNA gene, partial sequence\n",
            "length: 766\n",
            "e value: 2.43107e-173\n",
            "CGTAACAAGGTTTCCGTAGGTGAACCTGCGGAAGGATCATTGATGAGACCGTGGAATAAACGATCGAGTGAATCCGGAGGACCGGTG--TACTCAGCTCA...\n",
            "|||||||||||||||||||||||||||||||||||||||||| |||||| |  ||||| | |||||||||||||||| ||||  |||  |||||||||| ...\n",
            "CGTAACAAGGTTTCCGTAGGTGAACCTGCGGAAGGATCATTGTTGAGACAGCAGAATATATGATCGAGTGAATCCGGTGGACTTGTGGTTACTCAGCTCG...\n",
            "****Alignment****\n",
            "sequence: gi|340742828|gb|JN018078.1| Cypripedium calcicola 18S ribosomal RNA gene, partial sequence; internal transcribed spacer 1, 5.8S ribosomal RNA gene, and internal transcribed spacer 2, complete sequence; and 26S ribosomal RNA gene, partial sequence\n",
            "length: 756\n",
            "e value: 2.43107e-173\n",
            "AACAAGGTTTCCGTAGGTGAACCTGCGGAAGGATCATTGATGAGACCGTGGAATAAACGATCGAGTGAATCCGGAGGACCGGTG--TACTCAGCTCACCG...\n",
            "||||||||||||||||||||||||||||||||||||||| |||||| |  ||||| | |||||||||||||||| ||||  |||  ||||||||||| | ...\n",
            "AACAAGGTTTCCGTAGGTGAACCTGCGGAAGGATCATTGTTGAGACAGCAGAATATATGATCGAGTGAATCCGGTGGACTTGTGGTTACTCAGCTCAACA...\n",
            "****Alignment****\n",
            "sequence: gi|380005815|gb|JQ004990.1| Cypripedium fasciolatum internal transcribed spacer 1, partial sequence; 5.8S ribosomal RNA gene, complete sequence; and internal transcribed spacer 2, partial sequence\n",
            "length: 762\n",
            "e value: 2.96165e-172\n",
            "TCCGTAGGTGAACCTGCGGAAGGATCATTGATGAGACCGTGGAATAAACGATCGAGTGAATCCGGAGGACCGGTG--TACTCAGCTCACCGGGGGCATTG...\n",
            "|||||||||||||||||||||||||||||| |||||| |  ||||| | |||||||||||||||| ||||  |||  ||||||||||| |   ||| |||...\n",
            "TCCGTAGGTGAACCTGCGGAAGGATCATTGTTGAGACAGCAGAATATATGATCGAGTGAATCCGGTGGACTTGTGGTTACTCAGCTCAACATAGGCTTTG...\n",
            "****Alignment****\n",
            "sequence: gi|380005812|gb|JQ004987.1| Cypripedium henryi internal transcribed spacer 1, partial sequence; 5.8S ribosomal RNA gene, complete sequence; and internal transcribed spacer 2, partial sequence\n",
            "length: 762\n",
            "e value: 2.96165e-172\n",
            "TCCGTAGGTGAACCTGCGGAAGGATCATTGATGAGACCGTGGAATAAACGATCGAGTGAATCCGGAGGACCGGTG--TACTCAGCTCACCGGGGGCATTG...\n",
            "|||||||||||||||||||||||||||||| |||||| |  ||||| | |||||||||||||||| ||||  |||  |||||||||| ||   ||| |||...\n",
            "TCCGTAGGTGAACCTGCGGAAGGATCATTGTTGAGACAGCAGAATATATGATCGAGTGAATCCGGTGGACTTGTGGTTACTCAGCTCGCCATAGGCTTTG...\n",
            "****Alignment****\n",
            "sequence: gi|340742821|gb|JN018071.1| Cypripedium calceolus 18S ribosomal RNA gene, partial sequence; internal transcribed spacer 1, 5.8S ribosomal RNA gene, and internal transcribed spacer 2, complete sequence; and 26S ribosomal RNA gene, partial sequence\n",
            "length: 756\n",
            "e value: 3.60803e-171\n",
            "AACAAGGTTTCCGTAGGTGAACCTGCGGAAGGATCATTGATGAGACCGTGGAATAAACGATCGAGTGAATCCGGAGGACCGGTG--TACTCAGCTCACCG...\n",
            "|||||||||||| |||||||||||||||||||||||||| |||||| |  ||||| | |||||||||||||||| ||||  |||  ||||||||||  | ...\n",
            "AACAAGGTTTCC-TAGGTGAACCTGCGGAAGGATCATTGTTGAGACAGCAGAATATATGATCGAGTGAATCCGGTGGACTTGTGGTTACTCAGCTCGACA...\n",
            "****Alignment****\n",
            "sequence: gi|350999030|gb|JF796896.1| Cypripedium subtropicum internal transcribed spacer 1, partial sequence; 5.8S ribosomal RNA gene, complete sequence; and internal transcribed spacer 2, partial sequence >gi|350999031|gb|JF796897.1| Cypripedium singchii internal transcribed spacer 1, partial sequence; 5.8S ribosomal RNA gene, complete sequence; and internal transcribed spacer 2, partial sequence\n",
            "length: 731\n",
            "e value: 1.25933e-170\n",
            "CGTAACAAGGTTTCCGTAGGTGAACCTGCGGAAGGATCATTGATGAGACCGTGGAATAAACGATCGAGTGAATCCGGAGGACCGGTG--TACTCAGCTCA...\n",
            "|||||||||||||||||||||||||||||||||||||||||| ||||||||   |||| | |||||||| ||||| ||||||| |||  ||||| |||| ...\n",
            "CGTAACAAGGTTTCCGTAGGTGAACCTGCGGAAGGATCATTGTTGAGACCGCATAATATATGATCGAGTAAATCCAGAGGACCTGTGGTTACTCGGCTCG...\n",
            "****Alignment****\n",
            "sequence: gi|380005817|gb|JQ004992.1| Cypripedium tibeticum internal transcribed spacer 1, partial sequence; 5.8S ribosomal RNA gene, complete sequence; and internal transcribed spacer 2, partial sequence\n",
            "length: 762\n",
            "e value: 1.53417e-169\n",
            "TCCGTAGGTGAACCTGCGGAAGGATCATTGATGAGACCGTGGAATAAACGATCGAGTGAATCCGGAGGACCGGTG--TACTCAGCTCACCGGGGGCATTG...\n",
            "|||||||||||||||||||||||||||||| |||||| |  ||||| | |||||||||||||||| ||||  |||  ||||||||||| |   ||| |||...\n",
            "TCCGTAGGTGAACCTGCGGAAGGATCATTGTTGAGACAGCAGAATATATGATCGAGTGAATCCGGTGGACTTGTGGTTACTCAGCTCAACATAGGCTTTG...\n",
            "****Alignment****\n",
            "sequence: gi|380005814|gb|JQ004989.1| Cypripedium yunnanense internal transcribed spacer 1, partial sequence; 5.8S ribosomal RNA gene, complete sequence; and internal transcribed spacer 2, partial sequence\n",
            "length: 762\n",
            "e value: 1.53417e-169\n",
            "TCCGTAGGTGAACCTGCGGAAGGATCATTGATGAGACCGTGGAATAAACGATCGAGTGAATCCGGAGGACCGGTG--TACTCAGCTCACCGGGGGCATTG...\n",
            "|||||||||||||||||||||||||||||| |||||| |  ||||| | |||||||||||||||| ||||  |||  ||||||||||  |   ||| |||...\n",
            "TCCGTAGGTGAACCTGCGGAAGGATCATTGTTGAGACAGCAGAATATATGATCGAGTGAATCCGGTGGACTTGTGGTTACTCAGCTCGACATAGGCTTTG...\n",
            "****Alignment****\n",
            "sequence: gi|2030163935|gb|MZ044290.1| Cypripedium calceolus isolate AJK-2 small subunit ribosomal RNA gene, partial sequence; internal transcribed spacer 1, 5.8S ribosomal RNA gene, and internal transcribed spacer 2, complete sequence; and large subunit ribosomal RNA gene, partial sequence\n",
            "length: 740\n",
            "e value: 5.3548e-169\n",
            "TAGGTGAACCTGCGGAAGGATCATTGATGAGACCGTGGAATAAACGATCGAGTGAATCCGGAGGACCGGTG--TACTCAGCTCACCGGGGGCATTGCTCC...\n",
            "|||||||||||||||||||||||||| |||||| |  ||||| | |||||||||||||||| ||||  |||  ||||||||||  |   ||| |||||  ...\n",
            "TAGGTGAACCTGCGGAAGGATCATTGTTGAGACAGCAGAATATATGATCGAGTGAATCCGGTGGACTTGTGGTTACTCAGCTCGACATAGGCTTTGCTTT...\n",
            "****Alignment****\n",
            "sequence: gi|2011261287|gb|MW785559.1| Cypripedium calceolus isolate Slupiec 2 small subunit ribosomal RNA gene, partial sequence; internal transcribed spacer 1, 5.8S ribosomal RNA gene, and internal transcribed spacer 2, complete sequence; and large subunit ribosomal RNA gene, partial sequence\n",
            "length: 740\n",
            "e value: 5.3548e-169\n",
            "TAGGTGAACCTGCGGAAGGATCATTGATGAGACCGTGGAATAAACGATCGAGTGAATCCGGAGGACCGGTG--TACTCAGCTCACCGGGGGCATTGCTCC...\n",
            "|||||||||||||||||||||||||| |||||| |  ||||| | |||||||||||||||| ||||  |||  ||||||||||  |   ||| |||||  ...\n",
            "TAGGTGAACCTGCGGAAGGATCATTGTTGAGACAGCAGAATATATGATCGAGTGAATCCGGTGGACTTGTGGTTACTCAGCTCGACATAGGCTTTGCTTT...\n",
            "****Alignment****\n",
            "sequence: gi|380005820|gb|JQ004995.1| Cypripedium franchetii internal transcribed spacer 1, partial sequence; 5.8S ribosomal RNA gene, complete sequence; and internal transcribed spacer 2, partial sequence\n",
            "length: 762\n",
            "e value: 1.86901e-168\n",
            "TCCGTAGGTGAACCTGCGGAAGGATCATTGATGAGACCGTGGAATAAACGATCGAGTGAATCCGGAGGACCGGTG--TACTCAGCTCACCGGGGGCATTG...\n",
            "|||||||||||||||||||||||||||||| |||||| |  ||||| | |||||||||||||||| ||||  |||  ||||||||||  |   ||| |||...\n",
            "TCCGTAGGTGAACCTGCGGAAGGATCATTGTTGAGACAGCAGAATATATGATCGAGTGAATCCGGTGGACTTGTGGTTACTCAGCTCGACATAGGCTTTG...\n",
            "****Alignment****\n",
            "sequence: gi|2030163946|gb|MZ044301.1| Cypripedium calceolus isolate AJK-10.2 small subunit ribosomal RNA gene, partial sequence; internal transcribed spacer 1, 5.8S ribosomal RNA gene, and internal transcribed spacer 2, complete sequence; and large subunit ribosomal RNA gene, partial sequence\n",
            "length: 740\n",
            "e value: 6.52348e-168\n",
            "TAGGTGAACCTGCGGAAGGATCATTGATGAGACCGTGGAATAAACGATCGAGTGAATCCGGAGGACCGGTG--TACTCAGCTCACCGGGGGCATTGCTCC...\n",
            "|||||||||||||||||||||||||| |||||| |  ||||| | |||||||||||||||| ||||  |||  ||||||||||  |   ||| |||||  ...\n",
            "TAGGTGAACCTGCGGAAGGATCATTGTTGAGACAGCAGAATATATGATCGAGTGAATCCGGTGGACTTGTGGTTACTCAGCTCGACATAGGCTTTGCTTT...\n",
            "****Alignment****\n",
            "sequence: gi|2030163941|gb|MZ044296.1| Cypripedium calceolus isolate AJK-6 small subunit ribosomal RNA gene, partial sequence; internal transcribed spacer 1, 5.8S ribosomal RNA gene, and internal transcribed spacer 2, complete sequence; and large subunit ribosomal RNA gene, partial sequence\n",
            "length: 740\n",
            "e value: 6.52348e-168\n",
            "TAGGTGAACCTGCGGAAGGATCATTGATGAGACCGTGGAATAAACGATCGAGTGAATCCGGAGGACCGGTG--TACTCAGCTCACCGGGGGCATTGCTCC...\n",
            "|||||||||||||||||||||||||| |||||| |  ||||| | |||||||||||||||| ||||  |||  ||||||||||  |   ||| |||||  ...\n",
            "TAGGTGAACCTGCGGAAGGATCATTGTTGAGACAGCAGAATATATGATCGAGTGAATCCGGTGGACTTGTGGTTACTCAGCTCGACATAGGCTTTGCTTT...\n",
            "****Alignment****\n",
            "sequence: gi|2030163940|gb|MZ044295.1| Cypripedium calceolus isolate AJK-5b small subunit ribosomal RNA gene, partial sequence; internal transcribed spacer 1, 5.8S ribosomal RNA gene, and internal transcribed spacer 2, complete sequence; and large subunit ribosomal RNA gene, partial sequence\n",
            "length: 740\n",
            "e value: 6.52348e-168\n",
            "TAGGTGAACCTGCGGAAGGATCATTGATGAGACCGTGGAATAAACGATCGAGTGAATCCGGAGGACCGGTG--TACTCAGCTCACCGGGGGCATTGCTCC...\n",
            "|||||||||||||||||||||||||| |||||| |  ||||| | |||||||||||||||| ||||  |||  ||||||||||  |   ||| |||||  ...\n",
            "TAGGTGAACCTGCGGAAGGATCATTGTTGAGACAGCAGAATATATGATCGAGTGAATCCGGTGGACTTGTGGTTACTCAGCTCGACATAGGCTTTGCTTT...\n",
            "****Alignment****\n",
            "sequence: gi|2030163939|gb|MZ044294.1| Cypripedium calceolus isolate AJK-5a small subunit ribosomal RNA gene, partial sequence; internal transcribed spacer 1, 5.8S ribosomal RNA gene, and internal transcribed spacer 2, complete sequence; and large subunit ribosomal RNA gene, partial sequence\n",
            "length: 740\n",
            "e value: 6.52348e-168\n",
            "TAGGTGAACCTGCGGAAGGATCATTGATGAGACCGTGGAATAAACGATCGAGTGAATCCGGAGGACCGGTG--TACTCAGCTCACCGGGGGCATTGCTCC...\n",
            "|||||||||||||||||||||||||| |||||| |  ||||| | |||||||||||||||| ||||  |||  ||||||||||  |   ||| |||||  ...\n",
            "TAGGTGAACCTGCGGAAGGATCATTGTTGAGACAGCAGAATATATGATCGAGTGAATCCGGTGGACTTGTGGTTACTCAGCTCGACATAGGCTTTGCTTT...\n",
            "****Alignment****\n",
            "sequence: gi|2030163938|gb|MZ044293.1| Cypripedium calceolus isolate AJK-3 small subunit ribosomal RNA gene, partial sequence; internal transcribed spacer 1, 5.8S ribosomal RNA gene, and internal transcribed spacer 2, complete sequence; and large subunit ribosomal RNA gene, partial sequence\n",
            "length: 740\n",
            "e value: 6.52348e-168\n",
            "TAGGTGAACCTGCGGAAGGATCATTGATGAGACCGTGGAATAAACGATCGAGTGAATCCGGAGGACCGGTG--TACTCAGCTCACCGGGGGCATTGCTCC...\n",
            "|||||||||||||||||||||||||| |||||| |  ||||| | |||||||||||||||| ||||  |||  ||||||||||  |   ||| |||||  ...\n",
            "TAGGTGAACCTGCGGAAGGATCATTGTTGAGACAGCAGAATATATGATCGAGTGAATCCGGTGGACTTGTGGTTACTCAGCTCGACATAGGCTTTGCTTT...\n",
            "****Alignment****\n",
            "sequence: gi|2030163937|gb|MZ044292.1| Cypripedium calceolus isolate AJK-1 small subunit ribosomal RNA gene, partial sequence; internal transcribed spacer 1, 5.8S ribosomal RNA gene, and internal transcribed spacer 2, complete sequence; and large subunit ribosomal RNA gene, partial sequence\n",
            "length: 740\n",
            "e value: 6.52348e-168\n",
            "TAGGTGAACCTGCGGAAGGATCATTGATGAGACCGTGGAATAAACGATCGAGTGAATCCGGAGGACCGGTG--TACTCAGCTCACCGGGGGCATTGCTCC...\n",
            "|||||||||||||||||||||||||| |||||| |  ||||| | |||||||||||||||| ||||  |||  ||||||||||  |   ||| |||||  ...\n",
            "TAGGTGAACCTGCGGAAGGATCATTGTTGAGACAGCAGAATATATGATCGAGTGAATCCGGTGGACTTGTGGTTACTCAGCTCGACATAGGCTTTGCTTT...\n",
            "****Alignment****\n",
            "sequence: gi|2030163945|gb|MZ044300.1| Cypripedium calceolus isolate AJK-10.3 small subunit ribosomal RNA gene, partial sequence; internal transcribed spacer 1, 5.8S ribosomal RNA gene, and internal transcribed spacer 2, complete sequence; and large subunit ribosomal RNA gene, partial sequence\n",
            "length: 740\n",
            "e value: 2.27692e-167\n",
            "TAGGTGAACCTGCGGAAGGATCATTGATGAGACCGTGGAATAAACGATCGAGTGAATCCGGAGGACCGGTG--TACTCAGCTCACCGGGGGCATTGCTCC...\n",
            "|||||||||||||||||||||||||| |||||| |  ||||| | |||||||||||||||| ||||  |||  ||||||||||  |   ||| |||||  ...\n",
            "TAGGTGAACCTGCGGAAGGATCATTGTTGAGACAGCAGAATATATGATCGAGTGAATCCGGTGGACTTGTGGTTACTCAGCTCGACATAGGCTTTGCTTT...\n",
            "****Alignment****\n",
            "sequence: gi|2030163944|gb|MZ044299.1| Cypripedium calceolus isolate AJK-10.1 small subunit ribosomal RNA gene, partial sequence; internal transcribed spacer 1, 5.8S ribosomal RNA gene, and internal transcribed spacer 2, complete sequence; and large subunit ribosomal RNA gene, partial sequence\n",
            "length: 740\n",
            "e value: 2.27692e-167\n",
            "TAGGTGAACCTGCGGAAGGATCATTGATGAGACCGTGGAATAAACGATCGAGTGAATCCGGAGGACCGGTG--TACTCAGCTCACCGGGGGCATTGCTCC...\n",
            "|||||||||||||||||||||||||| |||||| |  ||||| | |||||||||||||||| ||||  |||  ||||||||||  |   ||| |||||  ...\n",
            "TAGGTGAACCTGCGGAAGGATCATTGTTGAGACAGCAGAATATATGATCGAGTGAATCCGGTGGACTTGTGGTTACTCAGCTCGACATAGGCTTTGCTTT...\n",
            "****Alignment****\n",
            "sequence: gi|2030163943|gb|MZ044298.1| Cypripedium calceolus isolate AJK-9 small subunit ribosomal RNA gene, partial sequence; internal transcribed spacer 1, 5.8S ribosomal RNA gene, and internal transcribed spacer 2, complete sequence; and large subunit ribosomal RNA gene, partial sequence\n",
            "length: 740\n",
            "e value: 2.27692e-167\n",
            "TAGGTGAACCTGCGGAAGGATCATTGATGAGACCGTGGAATAAACGATCGAGTGAATCCGGAGGACCGGTG--TACTCAGCTCACCGGGGGCATTGCTCC...\n",
            "|||||||||||||||||||||||||| |||||| |  ||||| | |||||||||||||||| ||||  |||  ||||||||||  |   ||| |||||  ...\n",
            "TAGGTGAACCTGCGGAAGGATCATTGTTGAGACAGCAGAATATATGATCGAGTGAATCCGGTGGACTTGTGGTTACTCAGCTCGACATAGGCTTTGCTTT...\n",
            "****Alignment****\n",
            "sequence: gi|2030163942|gb|MZ044297.1| Cypripedium calceolus isolate AJK-8 small subunit ribosomal RNA gene, partial sequence; internal transcribed spacer 1, 5.8S ribosomal RNA gene, and internal transcribed spacer 2, complete sequence; and large subunit ribosomal RNA gene, partial sequence\n",
            "length: 740\n",
            "e value: 2.27692e-167\n",
            "TAGGTGAACCTGCGGAAGGATCATTGATGAGACCGTGGAATAAACGATCGAGTGAATCCGGAGGACCGGTG--TACTCAGCTCACCGGGGGCATTGCTCC...\n",
            "|||||||||||||||||||||||||| |||||| |  ||||| | |||||||||||||||| ||||  |||  ||||||||||  |   ||| |||||  ...\n",
            "TAGGTGAACCTGCGGAAGGATCATTGTTGAGACAGCAGAATATATGATCGAGTGAATCCGGTGGACTTGTGGTTACTCAGCTCGACATAGGCTTTGCTTT...\n",
            "****Alignment****\n",
            "sequence: gi|2030163936|gb|MZ044291.1| Cypripedium calceolus isolate AJK-7 small subunit ribosomal RNA gene, partial sequence; internal transcribed spacer 1, 5.8S ribosomal RNA gene, and internal transcribed spacer 2, complete sequence; and large subunit ribosomal RNA gene, partial sequence\n",
            "length: 740\n",
            "e value: 2.27692e-167\n",
            "TAGGTGAACCTGCGGAAGGATCATTGATGAGACCGTGGAATAAACGATCGAGTGAATCCGGAGGACCGGTG--TACTCAGCTCACCGGGGGCATTGCTCC...\n",
            "|||||||||||||||||||||||||| |||||| |  ||||| | |||||||||||||||| ||||  |||  ||||||||||  |   ||| |||||  ...\n",
            "TAGGTGAACCTGCGGAAGGATCATTGTTGAGACAGCAGAATATATGATCGAGTGAATCCGGTGGACTTGTGGTTACTCAGCTCGACATAGGCTTTGCTTT...\n"
          ]
        }
      ],
      "source": [
        "E_VALUE_THRESH = 0.04\n",
        "for alignment in blast_record.alignments:\n",
        "    for hsp in alignment.hsps:\n",
        "        if hsp.expect < E_VALUE_THRESH:\n",
        "            print(\"****Alignment****\")\n",
        "            print(\"sequence:\", alignment.title)\n",
        "            print(\"length:\", alignment.length)\n",
        "            print(\"e value:\", hsp.expect)\n",
        "            print(hsp.query[0:100] + \"...\")\n",
        "            print(hsp.match[0:100] + \"...\")\n",
        "            print(hsp.sbjct[0:100] + \"...\")"
      ]
    },
    {
      "cell_type": "code",
      "execution_count": null,
      "id": "f696b279-f4f8-486c-9907-7835d2cc76d9",
      "metadata": {
        "tags": [],
        "id": "f696b279-f4f8-486c-9907-7835d2cc76d9",
        "outputId": "616ed4ef-fe7e-4a62-ece7-e911fb686a80"
      },
      "outputs": [
        {
          "name": "stdout",
          "output_type": "stream",
          "text": [
            "<Bio.Blast.Record.Blast object at 0x00000235EB372250>\n"
          ]
        }
      ],
      "source": [
        "print(blast_record)"
      ]
    },
    {
      "cell_type": "code",
      "execution_count": null,
      "id": "07e7cca4-08cf-49db-91fb-639d34a69ac9",
      "metadata": {
        "tags": [],
        "id": "07e7cca4-08cf-49db-91fb-639d34a69ac9"
      },
      "outputs": [],
      "source": [
        "result_handle = open(\"my_blast.xml\")\n",
        "\n",
        "with open(\"my_blast.xml\", \"w\") as out_handle:\n",
        "    out_handle.write(result_handle.read())\n",
        "\n",
        "result_handle.close()"
      ]
    },
    {
      "cell_type": "markdown",
      "id": "74f00113-4091-45da-9fef-0987fe17f37d",
      "metadata": {
        "id": "74f00113-4091-45da-9fef-0987fe17f37d"
      },
      "source": [
        "Dari Youtube \"Course|1 hour Python for Bioinformaticstutorial\""
      ]
    },
    {
      "cell_type": "code",
      "execution_count": null,
      "id": "ff3faecb-745c-4b0c-9821-477009d77a12",
      "metadata": {
        "tags": [],
        "id": "ff3faecb-745c-4b0c-9821-477009d77a12"
      },
      "outputs": [],
      "source": [
        "from Bio import Entrez, SeqIO"
      ]
    },
    {
      "cell_type": "code",
      "execution_count": null,
      "id": "e41e7a02-6877-43c8-aa0c-73cd054e9e60",
      "metadata": {
        "tags": [],
        "id": "e41e7a02-6877-43c8-aa0c-73cd054e9e60"
      },
      "outputs": [],
      "source": [
        "Entrez.email = \"\""
      ]
    },
    {
      "cell_type": "code",
      "execution_count": null,
      "id": "d56fd597-5142-46f6-9b23-de57777037e6",
      "metadata": {
        "tags": [],
        "id": "d56fd597-5142-46f6-9b23-de57777037e6"
      },
      "outputs": [],
      "source": [
        "handle = Entrez.einfo()\n",
        "rec = Entrez.read(handle)\n",
        "handle.close()"
      ]
    },
    {
      "cell_type": "code",
      "execution_count": null,
      "id": "03884b2c-108f-40a0-917d-d1d80e110a6f",
      "metadata": {
        "tags": [],
        "id": "03884b2c-108f-40a0-917d-d1d80e110a6f",
        "outputId": "c0cbb546-5745-4400-b8f2-679f5be89d83"
      },
      "outputs": [
        {
          "name": "stdout",
          "output_type": "stream",
          "text": [
            "dict_keys(['DbList'])\n"
          ]
        }
      ],
      "source": [
        "print(rec.keys())"
      ]
    },
    {
      "cell_type": "code",
      "execution_count": null,
      "id": "c2c64bdd-cb41-4c0c-b0fb-a9a5cd3e487e",
      "metadata": {
        "tags": [],
        "id": "c2c64bdd-cb41-4c0c-b0fb-a9a5cd3e487e",
        "outputId": "409a1d93-d5d9-4f1f-e4aa-7fe0bb8c3919"
      },
      "outputs": [
        {
          "data": {
            "text/plain": [
              "['pubmed', 'protein', 'nuccore', 'ipg', 'nucleotide', 'structure', 'genome', 'annotinfo', 'assembly', 'bioproject', 'biosample', 'blastdbinfo', 'books', 'cdd', 'clinvar', 'gap', 'gapplus', 'grasp', 'dbvar', 'gene', 'gds', 'geoprofiles', 'medgen', 'mesh', 'nlmcatalog', 'omim', 'orgtrack', 'pmc', 'popset', 'proteinclusters', 'pcassay', 'protfam', 'pccompound', 'pcsubstance', 'seqannot', 'snp', 'sra', 'taxonomy', 'biocollections', 'gtr']"
            ]
          },
          "execution_count": 5,
          "metadata": {},
          "output_type": "execute_result"
        }
      ],
      "source": [
        "rec['DbList']"
      ]
    },
    {
      "cell_type": "markdown",
      "id": "4dc8226f-a1ee-4023-baef-fa9ede515747",
      "metadata": {
        "id": "4dc8226f-a1ee-4023-baef-fa9ede515747"
      },
      "source": [
        "Dari \"Biopython Tutorial 12.6\""
      ]
    },
    {
      "cell_type": "code",
      "execution_count": null,
      "id": "2565f876-ce7e-40be-a5b7-e3868d2786d6",
      "metadata": {
        "jupyter": {
          "outputs_hidden": true
        },
        "tags": [],
        "id": "2565f876-ce7e-40be-a5b7-e3868d2786d6",
        "outputId": "5fa173c9-96a4-4575-d1a6-e8197897ede7"
      },
      "outputs": [
        {
          "name": "stdout",
          "output_type": "stream",
          "text": [
            "LOCUS       EU490707                1302 bp    DNA     linear   PLN 26-JUL-2016\n",
            "DEFINITION  Selenipedium aequinoctiale maturase K (matK) gene, partial cds;\n",
            "            chloroplast.\n",
            "ACCESSION   EU490707\n",
            "VERSION     EU490707.1\n",
            "KEYWORDS    .\n",
            "SOURCE      chloroplast Selenipedium aequinoctiale\n",
            "  ORGANISM  Selenipedium aequinoctiale\n",
            "            Eukaryota; Viridiplantae; Streptophyta; Embryophyta; Tracheophyta;\n",
            "            Spermatophyta; Magnoliopsida; Liliopsida; Asparagales; Orchidaceae;\n",
            "            Cypripedioideae; Selenipedium.\n",
            "REFERENCE   1  (bases 1 to 1302)\n",
            "  AUTHORS   Neubig,K.M., Whitten,W.M., Carlsward,B.S., Blanco,M.A., Endara,L.,\n",
            "            Williams,N.H. and Moore,M.\n",
            "  TITLE     Phylogenetic utility of ycf1 in orchids: a plastid gene more\n",
            "            variable than matK\n",
            "  JOURNAL   Plant Syst. Evol. 277 (1-2), 75-84 (2009)\n",
            "REFERENCE   2  (bases 1 to 1302)\n",
            "  AUTHORS   Neubig,K.M., Whitten,W.M., Carlsward,B.S., Blanco,M.A.,\n",
            "            Endara,C.L., Williams,N.H. and Moore,M.J.\n",
            "  TITLE     Direct Submission\n",
            "  JOURNAL   Submitted (14-FEB-2008) Department of Botany, University of\n",
            "            Florida, 220 Bartram Hall, Gainesville, FL 32611-8526, USA\n",
            "FEATURES             Location/Qualifiers\n",
            "     source          1..1302\n",
            "                     /organism=\"Selenipedium aequinoctiale\"\n",
            "                     /organelle=\"plastid:chloroplast\"\n",
            "                     /mol_type=\"genomic DNA\"\n",
            "                     /specimen_voucher=\"FLAS:Blanco 2475\"\n",
            "                     /db_xref=\"taxon:256374\"\n",
            "     gene            <1..>1302\n",
            "                     /gene=\"matK\"\n",
            "     CDS             <1..>1302\n",
            "                     /gene=\"matK\"\n",
            "                     /codon_start=1\n",
            "                     /transl_table=11\n",
            "                     /product=\"maturase K\"\n",
            "                     /protein_id=\"ACC99456.1\"\n",
            "                     /translation=\"IFYEPVEIFGYDNKSSLVLVKRLITRMYQQNFLISSVNDSNQKG\n",
            "                     FWGHKHFFSSHFSSQMVSEGFGVILEIPFSSQLVSSLEEKKIPKYQNLRSIHSIFPFL\n",
            "                     EDKFLHLNYVSDLLIPHPIHLEILVQILQCRIKDVPSLHLLRLLFHEYHNLNSLITSK\n",
            "                     KFIYAFSKRKKRFLWLLYNSYVYECEYLFQFLRKQSSYLRSTSSGVFLERTHLYVKIE\n",
            "                     HLLVVCCNSFQRILCFLKDPFMHYVRYQGKAILASKGTLILMKKWKFHLVNFWQSYFH\n",
            "                     FWSQPYRIHIKQLSNYSFSFLGYFSSVLENHLVVRNQMLENSFIINLLTKKFDTIAPV\n",
            "                     ISLIGSLSKAQFCTVLGHPISKPIWTDFSDSDILDRFCRICRNLCRYHSGSSKKQVLY\n",
            "                     RIKYILRLSCARTLARKHKSTVRTFMRRLGSGLLEEFFMEEE\"\n",
            "ORIGIN      \n",
            "        1 attttttacg aacctgtgga aatttttggt tatgacaata aatctagttt agtacttgtg\n",
            "       61 aaacgtttaa ttactcgaat gtatcaacag aattttttga tttcttcggt taatgattct\n",
            "      121 aaccaaaaag gattttgggg gcacaagcat tttttttctt ctcatttttc ttctcaaatg\n",
            "      181 gtatcagaag gttttggagt cattctggaa attccattct cgtcgcaatt agtatcttct\n",
            "      241 cttgaagaaa aaaaaatacc aaaatatcag aatttacgat ctattcattc aatatttccc\n",
            "      301 tttttagaag acaaattttt acatttgaat tatgtgtcag atctactaat accccatccc\n",
            "      361 atccatctgg aaatcttggt tcaaatcctt caatgccgga tcaaggatgt tccttctttg\n",
            "      421 catttattgc gattgctttt ccacgaatat cataatttga atagtctcat tacttcaaag\n",
            "      481 aaattcattt acgccttttc aaaaagaaag aaaagattcc tttggttact atataattct\n",
            "      541 tatgtatatg aatgcgaata tctattccag tttcttcgta aacagtcttc ttatttacga\n",
            "      601 tcaacatctt ctggagtctt tcttgagcga acacatttat atgtaaaaat agaacatctt\n",
            "      661 ctagtagtgt gttgtaattc ttttcagagg atcctatgct ttctcaagga tcctttcatg\n",
            "      721 cattatgttc gatatcaagg aaaagcaatt ctggcttcaa agggaactct tattctgatg\n",
            "      781 aagaaatgga aatttcatct tgtgaatttt tggcaatctt attttcactt ttggtctcaa\n",
            "      841 ccgtatagga ttcatataaa gcaattatcc aactattcct tctcttttct ggggtatttt\n",
            "      901 tcaagtgtac tagaaaatca tttggtagta agaaatcaaa tgctagagaa ttcatttata\n",
            "      961 ataaatcttc tgactaagaa attcgatacc atagccccag ttatttctct tattggatca\n",
            "     1021 ttgtcgaaag ctcaattttg tactgtattg ggtcatccta ttagtaaacc gatctggacc\n",
            "     1081 gatttctcgg attctgatat tcttgatcga ttttgccgga tatgtagaaa tctttgtcgt\n",
            "     1141 tatcacagcg gatcctcaaa aaaacaggtt ttgtatcgta taaaatatat acttcgactt\n",
            "     1201 tcgtgtgcta gaactttggc acggaaacat aaaagtacag tacgcacttt tatgcgaaga\n",
            "     1261 ttaggttcgg gattattaga agaattcttt atggaagaag aa\n",
            "//\n",
            "\n",
            "\n"
          ]
        }
      ],
      "source": [
        "from Bio import Entrez\n",
        "Entrez.email = \"faiza.namira.fahim@gmail.com\" # Always tell NCBI who you are\n",
        "stream = Entrez.efetch(db=\"nucleotide\", id=\"EU490707\", rettype=\"gb\", retmode=\"text\")\n",
        "print(stream.read())"
      ]
    },
    {
      "cell_type": "code",
      "execution_count": null,
      "id": "8b5c564c-d464-417a-8cd4-7b62b78bfb83",
      "metadata": {
        "tags": [],
        "id": "8b5c564c-d464-417a-8cd4-7b62b78bfb83",
        "outputId": "8c2693ba-2917-40f0-95a2-d1f7bc60b396"
      },
      "outputs": [
        {
          "ename": "ModuleNotFoundError",
          "evalue": "No module named 'Bio.seq'",
          "output_type": "error",
          "traceback": [
            "\u001b[1;31m---------------------------------------------------------------------------\u001b[0m",
            "\u001b[1;31mModuleNotFoundError\u001b[0m                       Traceback (most recent call last)",
            "Cell \u001b[1;32mIn[7], line 1\u001b[0m\n\u001b[1;32m----> 1\u001b[0m \u001b[38;5;28;01mfrom\u001b[39;00m \u001b[38;5;21;01mBio\u001b[39;00m\u001b[38;5;21;01m.\u001b[39;00m\u001b[38;5;21;01mseq\u001b[39;00m \u001b[38;5;28;01mimport\u001b[39;00m Seq\n\u001b[0;32m      2\u001b[0m seq1 \u001b[38;5;241m=\u001b[39m Seq(\u001b[38;5;124m\"\u001b[39m\u001b[38;5;124mACGT\u001b[39m\u001b[38;5;124m\"\u001b[39m)\n\u001b[0;32m      3\u001b[0m seq2 \u001b[38;5;241m=\u001b[39m Seq(\u001b[38;5;124m\"\u001b[39m\u001b[38;5;124mAACCGG\u001b[39m\u001b[38;5;124m\"\u001b[39m)\n",
            "\u001b[1;31mModuleNotFoundError\u001b[0m: No module named 'Bio.seq'"
          ]
        }
      ],
      "source": [
        "from Bio.seq import Seq\n",
        "seq1 = Seq(\"ACGT\")\n",
        "seq2 = Seq(\"AACCGG\")\n",
        "seq1 + seq2"
      ]
    },
    {
      "cell_type": "markdown",
      "id": "5afeb8c9-b3fb-471f-b646-20bcaedc033b",
      "metadata": {
        "id": "5afeb8c9-b3fb-471f-b646-20bcaedc033b"
      },
      "source": [
        "Python For Loops"
      ]
    },
    {
      "cell_type": "code",
      "execution_count": null,
      "id": "713c9e79-9d58-4d58-a25e-f78c63318708",
      "metadata": {
        "tags": [],
        "id": "713c9e79-9d58-4d58-a25e-f78c63318708",
        "outputId": "3838b8dc-47df-4940-cb70-b580787e8178"
      },
      "outputs": [
        {
          "name": "stdout",
          "output_type": "stream",
          "text": [
            "b\n",
            "a\n",
            "n\n",
            "a\n",
            "n\n",
            "a\n"
          ]
        }
      ],
      "source": [
        "for x in \"banana\":\n",
        "    print(x)"
      ]
    },
    {
      "cell_type": "code",
      "execution_count": null,
      "id": "79f7de83-d9a2-483c-a38a-8de848bc68a6",
      "metadata": {
        "tags": [],
        "id": "79f7de83-d9a2-483c-a38a-8de848bc68a6",
        "outputId": "e9c0353a-9e7a-47e8-9406-39765400dbba"
      },
      "outputs": [
        {
          "name": "stdout",
          "output_type": "stream",
          "text": [
            "Delapanpuluh\n"
          ]
        }
      ],
      "source": [
        "for a in range(0, 100, 10):\n",
        "    if a == 80:\n",
        "        print(\"Delapanpuluh\")"
      ]
    }
  ],
  "metadata": {
    "kernelspec": {
      "display_name": "Python 3 (ipykernel)",
      "language": "python",
      "name": "python3"
    },
    "language_info": {
      "codemirror_mode": {
        "name": "ipython",
        "version": 3
      },
      "file_extension": ".py",
      "mimetype": "text/x-python",
      "name": "python",
      "nbconvert_exporter": "python",
      "pygments_lexer": "ipython3",
      "version": "3.11.5"
    },
    "colab": {
      "provenance": [],
      "include_colab_link": true
    }
  },
  "nbformat": 4,
  "nbformat_minor": 5
}